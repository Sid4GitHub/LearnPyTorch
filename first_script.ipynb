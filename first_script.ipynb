{
 "cells": [
  {
   "cell_type": "code",
   "execution_count": 1,
   "id": "b0cb8c19",
   "metadata": {},
   "outputs": [
    {
     "name": "stdout",
     "output_type": "stream",
     "text": [
      "2.5.1\n"
     ]
    }
   ],
   "source": [
    "import torch\n",
    "print(torch.__version__)"
   ]
  },
  {
   "cell_type": "code",
   "execution_count": 2,
   "id": "a637cb0b",
   "metadata": {},
   "outputs": [
    {
     "name": "stdout",
     "output_type": "stream",
     "text": [
      "CUDA is available\n"
     ]
    }
   ],
   "source": [
    "if torch.cuda.is_available():\n",
    "    print(\"CUDA is available\")\n",
    "else:\n",
    "    print(\"CUDA is not available\")\n",
    "\n",
    "device = torch.device(\"cuda\" if torch.cuda.is_available() else \"cpu\")"
   ]
  },
  {
   "cell_type": "code",
   "execution_count": 3,
   "id": "e6548486",
   "metadata": {},
   "outputs": [
    {
     "name": "stdout",
     "output_type": "stream",
     "text": [
      "<class 'torch.Tensor'>\n",
      "tensor([[1.7189e+10, 1.3845e-42, 0.0000e+00],\n",
      "        [0.0000e+00, 0.0000e+00, 0.0000e+00],\n",
      "        [0.0000e+00, 0.0000e+00, 0.0000e+00],\n",
      "        [0.0000e+00, 0.0000e+00, 0.0000e+00],\n",
      "        [0.0000e+00, 0.0000e+00, 0.0000e+00]])\n"
     ]
    }
   ],
   "source": [
    "# Empty tensor \n",
    "a = torch.empty(5, 3)\n",
    "print(type(a))\n",
    "print(a) # tensor with uninitialized data, garbage values"
   ]
  },
  {
   "cell_type": "code",
   "execution_count": 4,
   "id": "1b076203",
   "metadata": {},
   "outputs": [
    {
     "name": "stdout",
     "output_type": "stream",
     "text": [
      "tensor([[0., 0., 0.],\n",
      "        [0., 0., 0.],\n",
      "        [0., 0., 0.],\n",
      "        [0., 0., 0.],\n",
      "        [0., 0., 0.]])\n"
     ]
    }
   ],
   "source": [
    "# Initializing a tensor with zeros\n",
    "b = torch.zeros(5, 3)    \n",
    "print(b) # tensor with all elements initialized to zero"
   ]
  },
  {
   "cell_type": "code",
   "execution_count": 5,
   "id": "54ef82e7",
   "metadata": {},
   "outputs": [
    {
     "name": "stdout",
     "output_type": "stream",
     "text": [
      "tensor([[1., 1., 1.],\n",
      "        [1., 1., 1.]])\n"
     ]
    }
   ],
   "source": [
    "c = torch.ones(2, 3)\n",
    "print(c)"
   ]
  },
  {
   "cell_type": "code",
   "execution_count": 6,
   "id": "9a9b8457",
   "metadata": {},
   "outputs": [
    {
     "name": "stdout",
     "output_type": "stream",
     "text": [
      "tensor([[0.3494, 0.9494, 0.7420],\n",
      "        [0.3812, 0.2327, 0.2824]])\n"
     ]
    }
   ],
   "source": [
    "d = torch.rand(2, 3)\n",
    "print(d) # tensor with random values uniformly distributed between 0 and 1"
   ]
  },
  {
   "cell_type": "code",
   "execution_count": 7,
   "id": "ee2c17e6",
   "metadata": {},
   "outputs": [
    {
     "name": "stdout",
     "output_type": "stream",
     "text": [
      "tensor([[0.0118, 0.0646, 0.7472],\n",
      "        [0.1649, 0.0975, 0.0077]])\n"
     ]
    }
   ],
   "source": [
    "d = torch.rand(2, 3)\n",
    "print(d) # tensor with random values uniformly distributed between 0 and 1"
   ]
  },
  {
   "cell_type": "code",
   "execution_count": 8,
   "id": "2454a8bd",
   "metadata": {},
   "outputs": [
    {
     "name": "stdout",
     "output_type": "stream",
     "text": [
      "tensor([[0.8823, 0.9150, 0.3829],\n",
      "        [0.9593, 0.3904, 0.6009]])\n"
     ]
    }
   ],
   "source": [
    "torch.manual_seed(42)  # Set seed for reproducibility\n",
    "d = torch.rand(2, 3)\n",
    "print(d) # tensor with random values uniformly distributed between 0 and 1"
   ]
  },
  {
   "cell_type": "code",
   "execution_count": 9,
   "id": "b96fda92",
   "metadata": {},
   "outputs": [
    {
     "name": "stdout",
     "output_type": "stream",
     "text": [
      "tensor([[0.8823, 0.9150, 0.3829],\n",
      "        [0.9593, 0.3904, 0.6009]])\n"
     ]
    }
   ],
   "source": [
    "torch.manual_seed(42)  # Set seed for reproducibility\n",
    "d = torch.rand(2, 3)\n",
    "print(d) # tensor with random values uniformly distributed between 0 and 1"
   ]
  },
  {
   "cell_type": "code",
   "execution_count": 10,
   "id": "7eb756f2",
   "metadata": {},
   "outputs": [
    {
     "name": "stdout",
     "output_type": "stream",
     "text": [
      "tensor([[1, 2, 3],\n",
      "        [4, 5, 6]])\n"
     ]
    }
   ],
   "source": [
    "e = torch.tensor([[1, 2, 3], [4, 5, 6]])\n",
    "print(e)  # tensor with specified values"
   ]
  },
  {
   "cell_type": "code",
   "execution_count": 11,
   "id": "76c20b46",
   "metadata": {},
   "outputs": [
    {
     "name": "stdout",
     "output_type": "stream",
     "text": [
      "torch.arange:  tensor([1, 3, 5, 7, 9])\n"
     ]
    }
   ],
   "source": [
    "print(\"torch.arange: \", torch.arange(1, 10, 2))  # tensor with values from 1 to 9 with step 2"
   ]
  },
  {
   "cell_type": "code",
   "execution_count": 12,
   "id": "90bb2d7a",
   "metadata": {},
   "outputs": [
    {
     "name": "stdout",
     "output_type": "stream",
     "text": [
      "torch.linspace:  tensor([ 1.0000,  3.2500,  5.5000,  7.7500, 10.0000])\n"
     ]
    }
   ],
   "source": [
    "print(\"torch.linspace: \", torch.linspace(1, 10, 5))  # tensor with 2 values linearly spaced between 1 and 10"
   ]
  },
  {
   "cell_type": "code",
   "execution_count": 13,
   "id": "659527e7",
   "metadata": {},
   "outputs": [
    {
     "name": "stdout",
     "output_type": "stream",
     "text": [
      "torch.eye:  tensor([[1., 0., 0., 0.],\n",
      "        [0., 1., 0., 0.],\n",
      "        [0., 0., 1., 0.],\n",
      "        [0., 0., 0., 1.]])\n"
     ]
    }
   ],
   "source": [
    "print(\"torch.eye: \", torch.eye(4))  # identity matrix of size 10x10"
   ]
  },
  {
   "cell_type": "code",
   "execution_count": 14,
   "id": "4da99c5d",
   "metadata": {},
   "outputs": [
    {
     "name": "stdout",
     "output_type": "stream",
     "text": [
      "torch.full:  tensor([[5, 5],\n",
      "        [5, 5],\n",
      "        [5, 5]])\n"
     ]
    }
   ],
   "source": [
    "print(\"torch.full: \", torch.full((3, 2), 5))  # tensor filled with the value 5"
   ]
  },
  {
   "cell_type": "code",
   "execution_count": 15,
   "id": "cddfcf72",
   "metadata": {},
   "outputs": [
    {
     "name": "stdout",
     "output_type": "stream",
     "text": [
      "Shape of e:  torch.Size([2, 3])\n"
     ]
    }
   ],
   "source": [
    "s = e.shape\n",
    "print(\"Shape of e: \", s)  # shape of the tensor e"
   ]
  },
  {
   "cell_type": "code",
   "execution_count": 16,
   "id": "5c37b523",
   "metadata": {},
   "outputs": [
    {
     "name": "stdout",
     "output_type": "stream",
     "text": [
      "x:  tensor([[0, 0, 0],\n",
      "        [0, 0, 0]])\n"
     ]
    }
   ],
   "source": [
    "x = torch.zeros_like(e)\n",
    "print(\"x: \", x)  # tensor with the same shape as e, filled with zeros"
   ]
  },
  {
   "cell_type": "code",
   "execution_count": 17,
   "id": "8068cf70",
   "metadata": {},
   "outputs": [
    {
     "name": "stdout",
     "output_type": "stream",
     "text": [
      "torch.int64\n"
     ]
    }
   ],
   "source": [
    "print(e.dtype)  # data type of the tensor e"
   ]
  },
  {
   "cell_type": "code",
   "execution_count": 18,
   "id": "f56691aa",
   "metadata": {},
   "outputs": [
    {
     "name": "stdout",
     "output_type": "stream",
     "text": [
      "f.dtype:  torch.float32\n",
      "tensor([[1., 2., 3.],\n",
      "        [4., 5., 6.]])\n"
     ]
    }
   ],
   "source": [
    "f = torch.tensor([[1, 2, 3], [4, 5, 6]], dtype=torch.float32)  # tensor with specified values and float data type\n",
    "print(\"f.dtype: \", f.dtype)  # tensor with specified values and float data type\n",
    "print(f)  # tensor with specified values"
   ]
  },
  {
   "cell_type": "code",
   "execution_count": 19,
   "id": "6fa5b404",
   "metadata": {},
   "outputs": [
    {
     "name": "stdout",
     "output_type": "stream",
     "text": [
      "torch.int64\n",
      "e.dtype after conversion:  torch.float32\n"
     ]
    }
   ],
   "source": [
    "print(e.dtype)  #  data type of the tensor e\n",
    "e = e.to(torch.float32)  # convert e to float32 data type\n",
    "print(\"e.dtype after conversion: \", e.dtype)  # data type of the tensor e"
   ]
  },
  {
   "cell_type": "code",
   "execution_count": 28,
   "id": "c3ea99d7",
   "metadata": {},
   "outputs": [
    {
     "name": "stdout",
     "output_type": "stream",
     "text": [
      "tensor([[1., 1., 1.],\n",
      "        [1., 1., 1.]])\n",
      "tensor([[3., 3., 3.],\n",
      "        [3., 3., 3.]])\n",
      "tensor([[6., 6., 6.],\n",
      "        [6., 6., 6.]])\n",
      "tensor([[0.5000, 0.5000, 0.5000],\n",
      "        [0.5000, 0.5000, 0.5000]])\n",
      "tensor([[4., 4., 4.],\n",
      "        [4., 4., 4.]])\n"
     ]
    }
   ],
   "source": [
    "x = torch.ones(2, 3)  # tensor with all elements initialized to one\n",
    "print(x)\n",
    "print(x + 2)\n",
    "print((x + 2) * 2)\n",
    "print(x / 2)\n",
    "print( (x * 9) // 2)"
   ]
  },
  {
   "cell_type": "code",
   "execution_count": 31,
   "id": "ca09f097",
   "metadata": {},
   "outputs": [
    {
     "name": "stdout",
     "output_type": "stream",
     "text": [
      "tensor([[2., 3., 4.],\n",
      "        [5., 6., 7.]])\n",
      "tensor([[1., 2., 3.],\n",
      "        [4., 5., 6.]])\n"
     ]
    }
   ],
   "source": [
    "print(x + e)  # element-wise addition of tensors x and e\n",
    "print(x * e)  # element-wise multiplication of tensors x and e   \n"
   ]
  },
  {
   "cell_type": "code",
   "execution_count": 44,
   "id": "4ddf6a39",
   "metadata": {},
   "outputs": [
    {
     "name": "stdout",
     "output_type": "stream",
     "text": [
      "tensor([[1, 5, 3],\n",
      "        [1, 5, 5]])\n"
     ]
    }
   ],
   "source": [
    "x = torch.tensor([[1, 12, 3], [-4, 15, 6]])\n",
    "# clamp\n",
    "print(x.clamp(1, 5))  # clamp values of x between 1"
   ]
  },
  {
   "cell_type": "code",
   "execution_count": 45,
   "id": "111a64b0",
   "metadata": {},
   "outputs": [
    {
     "name": "stdout",
     "output_type": "stream",
     "text": [
      "tensor([[ 1, 12,  3],\n",
      "        [-4, 15,  6]])\n",
      "tensor(33)\n",
      "tensor([-3, 27,  9])\n",
      "tensor([16, 17])\n",
      "tensor(5.5000)\n",
      "tensor([-1.5000, 13.5000,  4.5000])\n",
      "tensor([5.3333, 5.6667])\n",
      "torch.max(x): tensor(15)\n",
      "torch.argmax(x): tensor(4)\n",
      "torch.return_types.max(\n",
      "values=tensor([ 1, 15,  6]),\n",
      "indices=tensor([0, 1, 1]))\n",
      "torch.max(x, dim=1): torch.return_types.max(\n",
      "values=tensor([12, 15]),\n",
      "indices=tensor([1, 1]))\n",
      "tensor([0, 1, 1])\n",
      "torch.argmax(x, dim=1: tensor([1, 1])\n",
      "tensor([-4,  1,  3,  6, 12, 15])\n"
     ]
    }
   ],
   "source": [
    "print(x)\n",
    "print(torch.sum(x))  # sum of all elements in x\n",
    "print(torch.sum(x, dim=0))  # sum along the first dimension (columns)   \n",
    "print(torch.sum(x, dim=1))  # sum along the second dimension (rows)\n",
    "print(torch.mean(x.float()))  # mean of all elements in x, converting to float for mean calculation\n",
    "print(torch.mean(x.float(), dim=0))  # mean along the first dimension (columns)\n",
    "print(torch.mean(x.float(), dim=1))  # mean along the second dimension (rows)   \n",
    "\n",
    "print(\"torch.max(x):\",torch.max(x))  # maximum value in x\n",
    "print(\"torch.argmax(x):\",torch.argmax(x))  # index of the maximum value in x\n",
    "\n",
    "print(torch.max(x, dim=0))  # maximum value along the first dimension (columns) \n",
    "print(\"torch.max(x, dim=1):\",torch.max(x, dim=1))  # maximum value along the second dimension (rows) \n",
    "\n",
    "print(torch.argmax(x, dim=0))  # index of the maximum value along the first dimension (columns)\n",
    "print(\"torch.argmax(x, dim=1:\",torch.argmax(x, dim=1))  # index of the maximum value along the second dimension (rows) lues in x with their inverse indices and counts\n",
    "print(torch.unique(x, sorted=True))  # unique values in x, sorted\n"
   ]
  },
  {
   "cell_type": "code",
   "execution_count": 50,
   "id": "8d079bc3",
   "metadata": {},
   "outputs": [
    {
     "name": "stdout",
     "output_type": "stream",
     "text": [
      "torch.int64 - torch.Size([2, 3])\n",
      "torch.float32 - torch.Size([2, 3])\n",
      "tensor([[34., 82.],\n",
      "        [44., 95.]])\n"
     ]
    }
   ],
   "source": [
    "print(x.dtype, \"-\" , x.shape)  # data type and shape of the tensor x\n",
    "print(e.dtype, \"-\" , e.shape) \n",
    "print(x.to(dtype=torch.float32).matmul(torch.transpose(e, 0, 1)))  # matrix multiplication of x and e"
   ]
  },
  {
   "cell_type": "code",
   "execution_count": 59,
   "id": "900082b7",
   "metadata": {},
   "outputs": [
    {
     "name": "stdout",
     "output_type": "stream",
     "text": [
      "tensor(-0.1623)\n"
     ]
    }
   ],
   "source": [
    "print(torch.det(torch.rand(2, 2)))  # determinant of a 2x2 tensor filled with ones"
   ]
  },
  {
   "cell_type": "code",
   "execution_count": 62,
   "id": "a8c2d2ca",
   "metadata": {},
   "outputs": [
    {
     "name": "stdout",
     "output_type": "stream",
     "text": [
      "tensor([[False,  True, False],\n",
      "        [False,  True, False]])\n"
     ]
    }
   ],
   "source": [
    "print(x > e) # element-wise comparison of tensors x and e"
   ]
  },
  {
   "cell_type": "code",
   "execution_count": 64,
   "id": "b68bc04e",
   "metadata": {},
   "outputs": [
    {
     "name": "stdout",
     "output_type": "stream",
     "text": [
      "tensor([[1., 2., 3.],\n",
      "        [4., 5., 6.]])\n"
     ]
    }
   ],
   "source": [
    "print(torch.relu(e))  # ReLU activation function applied to tensor e"
   ]
  },
  {
   "cell_type": "code",
   "execution_count": 66,
   "id": "9ba1c901",
   "metadata": {},
   "outputs": [
    {
     "name": "stdout",
     "output_type": "stream",
     "text": [
      "tensor([[ 1, 12,  3],\n",
      "        [-4, 15,  6]])\n",
      "tensor([[1, 2, 3],\n",
      "        [4, 5, 6]])\n",
      "tensor([[ 2, 14,  6],\n",
      "        [ 0, 20, 12]])\n"
     ]
    }
   ],
   "source": [
    "x = torch.tensor([[1, 12, 3], [-4, 15, 6]])\n",
    "e = torch.tensor([[1, 2, 3], [4, 5, 6]])\n",
    "print(x)\n",
    "print(e)\n",
    "x.add_(e)  # in-place addition of tensor e to x\n",
    "print(x)  # print x after in-place addition"
   ]
  },
  {
   "cell_type": "code",
   "execution_count": 67,
   "id": "1551f6e1",
   "metadata": {},
   "outputs": [
    {
     "name": "stdout",
     "output_type": "stream",
     "text": [
      "Clone of x: tensor([[ 2, 14,  6],\n",
      "        [ 0, 20, 12]])\n"
     ]
    }
   ],
   "source": [
    "xc = x.clone()  # create a clone of x\n",
    "print(\"Clone of x:\", xc)  # print the cloned tensor"
   ]
  },
  {
   "cell_type": "code",
   "execution_count": 68,
   "id": "e1693cee",
   "metadata": {},
   "outputs": [
    {
     "data": {
      "text/plain": [
       "device(type='cpu')"
      ]
     },
     "execution_count": 68,
     "metadata": {},
     "output_type": "execute_result"
    }
   ],
   "source": [
    "x.device"
   ]
  },
  {
   "cell_type": "code",
   "execution_count": null,
   "id": "e84be99d",
   "metadata": {},
   "outputs": [
    {
     "data": {
      "text/plain": [
       "device(type='cuda', index=0)"
      ]
     },
     "execution_count": 69,
     "metadata": {},
     "output_type": "execute_result"
    }
   ],
   "source": [
    "y = x.to(device=device)  # move tensor x to the specified device (CPU or GPU\n",
    "y.device  # check the device of tensor y"
   ]
  },
  {
   "cell_type": "code",
   "execution_count": 70,
   "id": "4131f285",
   "metadata": {},
   "outputs": [
    {
     "data": {
      "text/plain": [
       "tensor([ 2, 14,  6,  0, 20, 12])"
      ]
     },
     "execution_count": 70,
     "metadata": {},
     "output_type": "execute_result"
    }
   ],
   "source": [
    "x.flatten()  # flatten the tensor x"
   ]
  },
  {
   "cell_type": "code",
   "execution_count": 71,
   "id": "dc6a1168",
   "metadata": {},
   "outputs": [
    {
     "name": "stdout",
     "output_type": "stream",
     "text": [
      "b.shape: torch.Size([2, 3, 4])\n",
      "b1.shape: torch.Size([4, 2, 3])\n"
     ]
    }
   ],
   "source": [
    "b = torch.rand(2, 3, 4)\n",
    "print(\"b.shape:\", b.shape) \n",
    "b1 = b.permute(2, 0, 1)  # permute dimensions of tensor b\n",
    "print(\"b1.shape:\", b1.shape)  # print the shape of the permuted"
   ]
  },
  {
   "cell_type": "code",
   "execution_count": 74,
   "id": "96188c63",
   "metadata": {},
   "outputs": [
    {
     "name": "stdout",
     "output_type": "stream",
     "text": [
      "c.shape: torch.Size([256, 256, 3])\n",
      "d.shape: torch.Size([256, 1, 256, 3])\n",
      "e.shape: torch.Size([256, 256, 3])\n"
     ]
    }
   ],
   "source": [
    "c = torch.zeros(256, 256, 3)\n",
    "print(\"c.shape:\", c.shape)  # print the shape of tensor c\n",
    "d = c.unsqueeze(1)\n",
    "print(\"d.shape:\", d.shape)  # print the shape of tensor d after unsqueeze\n",
    "\n",
    "e = d.squeeze(1)  # remove the dimension at index 1\n",
    "print(\"e.shape:\", e.shape)  # print the shape of tensor e after squeeze"
   ]
  },
  {
   "cell_type": "code",
   "execution_count": 75,
   "id": "49db4b82",
   "metadata": {},
   "outputs": [
    {
     "name": "stdout",
     "output_type": "stream",
     "text": [
      "Numpy array: [[1 2 3]\n",
      " [4 5 6]]\n",
      "Converted PyTorch tensor: tensor([[1, 2, 3],\n",
      "        [4, 5, 6]])\n"
     ]
    }
   ],
   "source": [
    "import numpy as np\n",
    "np_array = np.array([[1, 2, 3], [4, 5, 6]])\n",
    "print(\"Numpy array:\", np_array)  # print the numpy array    \n",
    "\n",
    "# Convert numpy array to PyTorch tensor\n",
    "torch_tensor = torch.from_numpy(np_array)   \n",
    "print(\"Converted PyTorch tensor:\", torch_tensor)  # print the converted PyTorch tensor"
   ]
  }
 ],
 "metadata": {
  "kernelspec": {
   "display_name": "Python 3",
   "language": "python",
   "name": "python3"
  },
  "language_info": {
   "codemirror_mode": {
    "name": "ipython",
    "version": 3
   },
   "file_extension": ".py",
   "mimetype": "text/x-python",
   "name": "python",
   "nbconvert_exporter": "python",
   "pygments_lexer": "ipython3",
   "version": "3.10.18"
  }
 },
 "nbformat": 4,
 "nbformat_minor": 5
}
