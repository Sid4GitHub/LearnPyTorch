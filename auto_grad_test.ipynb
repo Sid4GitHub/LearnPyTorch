{
 "cells": [
  {
   "cell_type": "code",
   "execution_count": 22,
   "id": "4af253d8",
   "metadata": {},
   "outputs": [],
   "source": [
    "import torch"
   ]
  },
  {
   "cell_type": "code",
   "execution_count": 23,
   "id": "bf2b946f",
   "metadata": {},
   "outputs": [
    {
     "data": {
      "text/plain": [
       "tensor(3., requires_grad=True)"
      ]
     },
     "execution_count": 23,
     "metadata": {},
     "output_type": "execute_result"
    }
   ],
   "source": [
    "x = torch.tensor(3, dtype=torch.float32, requires_grad=True)\n",
    "x  # display the tensor"
   ]
  },
  {
   "cell_type": "code",
   "execution_count": 24,
   "id": "de927ff2",
   "metadata": {},
   "outputs": [
    {
     "data": {
      "text/plain": [
       "tensor(9., grad_fn=<PowBackward0>)"
      ]
     },
     "execution_count": 24,
     "metadata": {},
     "output_type": "execute_result"
    }
   ],
   "source": [
    "y = x ** 2  # square the tensor\n",
    "y"
   ]
  },
  {
   "cell_type": "code",
   "execution_count": 25,
   "id": "7a3f84b1",
   "metadata": {},
   "outputs": [
    {
     "name": "stdout",
     "output_type": "stream",
     "text": [
      "Gradient of x: tensor(6.)\n"
     ]
    }
   ],
   "source": [
    "y.backward()  # compute the gradients\n",
    "print(\"Gradient of x:\", x.grad)  # print the gradients of x"
   ]
  },
  {
   "cell_type": "code",
   "execution_count": 26,
   "id": "9675ec72",
   "metadata": {},
   "outputs": [
    {
     "name": "stdout",
     "output_type": "stream",
     "text": [
      "Gradient of x: tensor([0.6667, 1.3333, 2.0000])\n"
     ]
    }
   ],
   "source": [
    "x = torch.tensor([1, 2, 3], dtype=torch.float32, requires_grad=True) # create a tensor with gradient tracking enabled\n",
    "y = (x ** 2).mean()  # compute the mean of the squared tensor\n",
    "y.backward()  # compute the gradients   \n",
    "print(\"Gradient of x:\", x.grad)  # print the gradients of x"
   ]
  },
  {
   "cell_type": "code",
   "execution_count": 27,
   "id": "2d534d3a",
   "metadata": {},
   "outputs": [
    {
     "name": "stdout",
     "output_type": "stream",
     "text": [
      "Gradient of x after zeroing: tensor([0., 0., 0.])\n"
     ]
    }
   ],
   "source": [
    "x.grad.zero_()  # reset the gradients to zero\n",
    "print(\"Gradient of x after zeroing:\", x.grad)  # print the gradients of x"
   ]
  },
  {
   "cell_type": "code",
   "execution_count": null,
   "id": "41c981c7",
   "metadata": {},
   "outputs": [
    {
     "name": "stdout",
     "output_type": "stream",
     "text": [
      "Gradient of x: tensor([0.6667, 1.3333, 2.0000])\n",
      "Error: element 0 of tensors does not require grad and does not have a grad_fn\n"
     ]
    },
    {
     "ename": "",
     "evalue": "",
     "output_type": "error",
     "traceback": [
      "\u001b[1;31mThe Kernel crashed while executing code in the current cell or a previous cell. \n",
      "\u001b[1;31mPlease review the code in the cell(s) to identify a possible cause of the failure. \n",
      "\u001b[1;31mClick <a href='https://aka.ms/vscodeJupyterKernelCrash'>here</a> for more info. \n",
      "\u001b[1;31mView Jupyter <a href='command:jupyter.viewOutput'>log</a> for further details."
     ]
    }
   ],
   "source": [
    "x = torch.tensor([1, 2, 3], dtype=torch.float32, requires_grad=True) # create a tensor with gradient tracking enabled\n",
    "y = (x ** 2).mean()  # compute the mean of the squared tensor\n",
    "\n",
    "z = y.detach()  # detach y from the computation graph \n",
    "\n",
    "y.backward()  # compute the gradients   \n",
    "print(\"Gradient of x:\", x.grad)  # print the gradients of x\n",
    "\n",
    "try:\n",
    "    z.backward()  # compute the gradients of z\n",
    "except RuntimeError as e:\n",
    "    print(\"Error:\", e)  "
   ]
  }
 ],
 "metadata": {
  "kernelspec": {
   "display_name": "Python 3",
   "language": "python",
   "name": "python3"
  },
  "language_info": {
   "codemirror_mode": {
    "name": "ipython",
    "version": 3
   },
   "file_extension": ".py",
   "mimetype": "text/x-python",
   "name": "python",
   "nbconvert_exporter": "python",
   "pygments_lexer": "ipython3",
   "version": "3.10.18"
  }
 },
 "nbformat": 4,
 "nbformat_minor": 5
}
