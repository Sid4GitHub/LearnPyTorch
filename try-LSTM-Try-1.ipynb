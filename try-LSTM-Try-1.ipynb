{
 "cells": [
  {
   "cell_type": "code",
   "execution_count": 1,
   "id": "62f2cd8b",
   "metadata": {},
   "outputs": [],
   "source": [
    "TEXT = \"\"\"\n",
    "The training compute of notable large models in FLOPs vs publication date over the period 2010–2024. \n",
    "For overall notable models (top left), frontier models (top right), top language models (bottom left) and top models within leading\n",
    "companies (bottom right). T\n",
    "he majority of these models are language models. \n",
    "Large language model A large language model (LLM) is a language model trained with self-supervised machine learning on a vast amount of text, designed for natural language processing tasks, especially language generation.\n",
    "The largest and most capable LLMs are generative pretrained transformers (GPTs), which are largely used in generative chatbots such as ChatGPT, Gemini or Claude. \n",
    "LLMs can be fine-tuned for specific tasks or guided by prompt engineering. \n",
    "These models acquire predictive power regarding syntax, semantics, and ontologies inherent in human language corpora, but they also inherit inaccuracies and biases present in the data they are trained in. \n",
    "Before the emergence of transformer-based models in 2017, some language models were considered large relative to the computational and data constraints of their time. \n",
    "In the early 1990s, IBM's statistical models pioneered word alignment techniques for machine translation, laying the groundwork for corpus-based language modeling. \n",
    "A smoothed n-gram model in 2001, such as those employing Kneser-Ney smoothing, trained on 300 million words achieved state-of-the-art perplexity on benchmark tests at the time. \n",
    "During the 2000s, with the rise of widespread internet access, researchers began compiling massive text datasets from the web (\"web as corpus\"  to train statistical language models.  \n",
    "Following the breakthrough of deep neural networks in image classification around 2012, similar architectures were adapted for language tasks. \n",
    "This shift was marked by the development of word embeddings (eg, Word2Vec by Mikolov in 2013) and sequence-to-sequence (seq2seq) models using LSTM. \n",
    "In 2016, Google transitioned its translation service to neural machine translation (NMT), replacing statistical phrase-based models with deep recurrent neural networks. \n",
    "These early NMT systems used LSTM-based encoder-decoder architectures, as they preceded the invention of transformers.\n",
    "At the 2017 NeurIPS conference, Google researchers introduced the transformer architecture in their landmark paper \"Attention Is All You Need\". \n",
    "This paper's goal was to improve upon 2014 seq2seq technology, and was based mainly on the attention mechanism developed by Bahdanau et al in 2014. \n",
    "The following year in 2018, BERT was introduced and quickly became \"ubiquitous\".  \n",
    "Though the original transformer has both encoder and decoder blocks, BERT is an encoder-only model. \n",
    "Academic and research usage of BERT began to decline in 2023, following rapid improvements in the abilities of decoder-only models (such as GPT) to solve tasks via prompting. \n",
    "History The training compute of notable large AI models in FLOPs vs publication date over\n",
    "the period 2017–2024. \n",
    "The majority of large models are language models or multimodal models with language capacity.\n",
    "An illustration of main components of the transformer model from the original paper, where layers were\n",
    "normalized after (instead of before) multiheaded attention\n",
    "Although decoder-only GPT-1 was introduced in 2018, it was GPT-2 in 2019 that caught widespread attention because OpenAI claimed to have initially deemed it too powerful to release publicly, out of fear of malicious use. \n",
    "GPT-3 in 2020 went a step further and as of 2025 is available only via API with no offering of downloading the model to execute locally. \n",
    "But it was the 2022 consumer-facing chatbot ChatGPT that received extensive media coverage and public attention. \n",
    "The 2023 GPT-4 was praised for its increased accuracy and as a \"holy grail\" for its multimodal capabilities. \n",
    "OpenAI did not reveal the high-level architecture and the number of parameters of GPT-4. \n",
    "The release of ChatGPT led to an uptick in LLM usage across several research subfields of computer science, including robotics, software engineering, and societal impact work. \n",
    "In 2024 OpenAI released the reasoning model OpenAI o1, which generates long chains of thought before returning a final answer. \n",
    "Many LLMs with parameter counts comparable to those of OpenAI's GPT series have been developed.  \n",
    "Since 2022, source-available models have been gaining popularity, especially at first with BLOOM and LLaMA, though both have restrictions on the field of use. \n",
    "Mistral AI's models Mistral 7B and Mixtral 8x7b have the more permissive Apache License. In January 2025, DeepSeek released DeepSeek R1, a 671-billion-parameter open-weight model that performs comparably to OpenAI o1 but at a much lower cost. \n",
    "Since 2023, many LLMs have been trained to be multimodal, having the ability to also process or generate other types of data, such as images or audio. \n",
    "These LLMs are also called large multimodal models (LMMs).  As of 2024, the largest and most capable models are all based on the transformer architecture. \n",
    "Some recent implementations are based on other architectures, such as recurrent neural network variants and\n",
    "Mamba (a state space model).    \n",
    "Dataset preprocessing Tokenization As machine learning algorithms process numbers rather than text, the text must be converted to numbers.\n",
    "In the first step, a vocabulary is decided upon, then integer indices are arbitrarily but uniquely assigned to each vocabulary entry, and finally, an embedding is associated to the integer index. \n",
    "Algorithms include byte-pair encoding (BPE) and WordPiece. \n",
    "There are also special tokens serving as control characters, such as  (\"unknown\") for characters not appearing in the vocabulary. \n",
    "Also, some special symbols are used to denote special text formatting. \n",
    "For example, \"Ġ\" denotes a preceding whitespace in RoBERTa and GPT. \n",
    "\"##\" denotes continuation of a preceding word in BERT. \n",
    "For example, the BPE tokenizer used by GPT-3 (Legacy) would split tokenizer: texts -> series of numerical \"tokens\" as tokenizer: texts ->series of numerical \"tokens\" Tokenization also compresses the datasets. \n",
    "Because LLMs generally require input to be an array that is not jagged, the shorter texts must be \"padded\" until they match the length of the longest one. \n",
    "How many tokens are, on average, needed per word depends on the language of the dataset.  \n",
    "As an example, consider a tokenizer based on byte-pair encoding. \n",
    "In the first step, all unique characters (including blanks and punctuation marks) are treated as an initial set of n-grams (i.e. initial set of uni-grams). \n",
    "Successively the most frequent pair of adjacent characters is merged into a bi-gram and all instances of the pair are replaced by it.\n",
    "All occurrences of adjacent pairs of (previously merged) n-grams that most frequently occur together are then again merged into even lengthier n-gram, until a vocabulary of prescribed size is obtained (in case of GPT-3, the size is 50257). \n",
    "After a tokenizer is trained, any text can be tokenized by it, as long as it does not contain characters not appearing in the initial-set of uni-grams. \n",
    "A token vocabulary based on the frequencies extracted from mainly English corpora uses as few tokens as\n",
    "possible for an average English word. \n",
    "However, an average word in another language encoded by such an\n",
    "English-optimized tokenizer is split into a suboptimal amount of tokens. \n",
    "GPT-2 tokenizer can use up to\n",
    "15 times more tokens per word for some languages, for example for the Shan language from Myanmar.\n",
    "Even more widespread languages such as Portuguese and German have \"a premium of 50%\" compared toEnglish. \n",
    "Greedy tokenization also causes subtle problems with text completion.\n",
    "In the context of training LLMs, datasets are typically cleaned by removing low-quality, duplicated, to oxic data. \n",
    "Cleaned datasets can increase training efficiency and lead to improved downstream performance. \n",
    "A trained LLM can be used to clean datasets for training a further LLM. \n",
    "With the increasing proportion of LLM-generated content on the web, data cleaning in the future mayinclude filtering out such content. \n",
    "LLM-generated content can pose a problem if the content is similar to human text (making filtering difficult) but of lower quality (degrading performance of models trained on BPE Problems Dataset cleaning it). \n",
    "Training of largest language models might need more linguistic data than naturally available, or that the naturally occurring data is of insufficient quality. \n",
    "In these cases, synthetic data might be used. \n",
    "Microsoft's Phi series of LLMs is trained on textbook-like data generated by another LLM. \n",
    "An LLM is a type of foundation model (large X model) trained on language. LLMs can be trained in different ways. \n",
    "In particular, GPT models are first pretrained to predict the next word on a large amount of data, before being fine-tuned. \n",
    "The qualifier \"large\" in \"large language model\" is inherently vague, as there is no\n",
    "definitive threshold for the number of parameters required to qualify as \"large\". \n",
    "As time goes on, what was previously considered \"large\" may evolve. \n",
    "GPT-1 of 2018 is usually considered the first LLM, even though it has only 117 million parameters. \n",
    "The tendency towards larger models is visible in the list of large language models.\n",
    "As technology advanced, large sums have been invested in increasingly large models. \n",
    "Substantial infrastructure is necessary for training the largest models. \n",
    "For example, the training of GPT-2 (i.e. a 1.5-billion-parameters model) in 2019 cost $50,000, while training of the PaLM (i.e. a 540-billion-parameters model) in 2022 cost $8 million, and Megatron-Turing NLG 530B (in 2021) cost around $11 million. \n",
    "For Transformer-based LLM, training cost is much higher than inference cost. \n",
    "It costs 6 FLOPs per parameter to train on one token, whereas it costs 1 to 2 FLOPs per parameter to infer on one token. \n",
    "Before being fine-tuned, most LLMs are next-token predictors. \n",
    "The fine-tuning can make LLM adopt a conversational format where they play the role of the assistant. \n",
    "Techniques like reinforcement learning from human feedback (RLHF) or constitutional AI can be used to instill human preferences and make LLMs more \"helpful, honest, and harmless\".  \n",
    "In 2021, Google Research released FLAN, a new model fine-tuned to follow a wide range of instructions. It could perform a task given a verbal instruction without needing any examples. \n",
    "In 2022, OpenAI demonstrated InstructGPT, a version of GPT-3.5 similarly fine-tuned to follow instructions. \n",
    "Instead of completing the sentence (e.g. following the instruction \"Write an essay about the main themes represented in Hamlet\" with \"If you submit the essay after March 17, your grade will be reduced by 10% for each day of delay\" based on the frequency of this textual sequence in the corpus), the instruction- following models have a preference to actually act on the instruction. \n",
    "RLHF involves training a reward model to predict which text humans prefer. \n",
    "Then, the LLM can be finetuned through reinforcement learning to better satisfy this reward model. \n",
    "Since humans typically prefer truthful, helpful and harmless answers, RLHF favors such answers. \n",
    "LLMs are generally based on the transformer architecture, which leverages an attention mechanism that enables the model to process relationships between all elements in a sequence simultaneously, regardless of their distance from each other. \n",
    "In order to find out which tokens are relevant to each other within the scope of the context window, the\n",
    "attention mechanism calculates \"soft\" weights for each token, more precisely for its embedding, by using\n",
    "multiple attention heads, each with its own \"relevance\" for calculating its own soft weights. For example,\n",
    "the small (i.e. 117M parameter sized) GPT-2 model has had twelve attention heads and a context window\n",
    "of only 1k tokens. In its medium version it has 345M parameters and contains 24 layers, each with 12\n",
    "attention heads. For the training with gradient descent a batch size of 512 was utilized. \n",
    "The largest models, such as Google's Gemini 1.5, presented in February 2024, can have a context window\n",
    "sized up to 1 million (context window of 10 million was also \"successfully tested\"). Other models\n",
    "with large context windows includes Anthropic's Claude 2.1, with a context window of up to 200k\n",
    "tokens. Note that this maximum refers to the number of input tokens and that the maximum number of\n",
    "output tokens differs from the input and is often smaller. For example, the GPT-4 Turbo model has a\n",
    "maximum output of 4096 tokens. \n",
    "Length of a conversation that the model can take into account when generating its next answer is limited\n",
    "by the size of a context window, as well. If the length of a conversation, for example with ChatGPT, is\n",
    "longer than its context window, only the parts inside the context window are taken into account when\n",
    "generating the next answer, or the model needs to apply some algorithm to summarize the too distant\n",
    "parts of conversation.\n",
    "The shortcomings of making a context window larger include higher computational cost and possibly\n",
    "diluting the focus on local context, while making it smaller can cause a model to miss an important long-\n",
    "range dependency. Balancing them is a matter of experimentation and domain-specific considerations.\n",
    "Instruction fine-tuning\n",
    "Reinforcement learning from human feedback\n",
    "Architecture\n",
    "Attention mechanism and context window\n",
    "When each head calculates, according to its own\n",
    "criteria, how much other tokens are relevant for the\n",
    "\"it_\" token, note that the second attention head,\n",
    "represented by the second column, is focusing most on\n",
    "the first two rows, i.e. the tokens \"The\" and \"animal\",\n",
    "while the third column is focusing most on the bottom\n",
    "two rows, i.e. on \"tired\", which has been tokenized into\n",
    "two tokens. \n",
    "A model may be pre-trained either to predict how\n",
    "the segment continues, or what is missing in the\n",
    "segment, given a segment from its training\n",
    "dataset. It can be either\n",
    "autoregressive (i.e. predicting how the\n",
    "segment continues, as GPTs do): for\n",
    "example given a segment \"I like to eat\",\n",
    "the model predicts \"ice cream\", or\n",
    "\"sushi\".\n",
    "\"masked\" (i.e. filling in the parts missing\n",
    "from the segment, the way \"BERT\" \n",
    "does it): for example, given a segment \"I\n",
    "like to  cream\", the model\n",
    "predicts that \"eat\" and \"ice\" are missing.\n",
    "Models may be trained on auxiliary tasks which\n",
    "test their understanding of the data distribution,\n",
    "such as Next Sentence Prediction (NSP), in\n",
    "which pairs of sentences are presented and the\n",
    "model must predict whether they appear\n",
    "consecutively in the training corpus. During\n",
    "training, regularization loss is also used to\n",
    "stabilize training. However regularization loss is\n",
    "usually not used during testing and evaluation.\n",
    "A mixture of experts (MoE) is a machine\n",
    "learning architecture in which multiple\n",
    "specialized neural networks (\"experts\") work\n",
    "together, with a gating mechanism that routes\n",
    "each input to the most appropriate expert(s).\n",
    "Mixtures of experts can reduce inference costs,\n",
    "as only a fraction of the parameters are used for each input. The approach was introduced in 2017 by\n",
    "Google researchers.   \n",
    "Typically, LLMs are trained with single- or half-precision floating point numbers (float32 and float16).\n",
    "One float16 has 16 bits, or 2 bytes, and so one billion parameters require 2 gigabytes. The largest models\n",
    "typically have 100 billion parameters, requiring 200 gigabytes to load, which places them outside the\n",
    "range of most consumer electronics. \n",
    "Post-training quantization aims to decrease the space requirement by lowering precision of the\n",
    "parameters of a trained model, while preserving most of its performance. Quantization can be\n",
    "further classified as static quantization if the quantization parameters are determined beforehand\n",
    "Mixture of experts\n",
    "Parameter size\n",
    "Quantization\n",
    "(typically during a calibration phase), and dynamic quantization if the quantization is applied during\n",
    "inference. The simplest form of quantization simply truncates all the parameters to a given number of\n",
    "bits: this is applicable to static as well as dynamic quantization, but loses much precision. Dynamic\n",
    "quantization allows for the use of a different quantization codebook per layer, either a lookup table of\n",
    "values or a linear mapping (scaling factor and bias), at the cost of foregoing the possible speed\n",
    "improvements from using lower-precision arithmetic. \n",
    "Quantized models are typically seen as frozen with modification of weights (e.g. fine-tuning) only\n",
    "applied to the original model. However, it is still possible to fine-tune quantized models using low-rank\n",
    "adaptation. Furthermore, more advanced methods to reduce precision loss from quantized models also\n",
    "need a training-like step: \n",
    "Quantization-aware training (QAT, 2020) adds a representation of quantization loss to the\n",
    "training of the parent network, which can be improved using ordinary backpropagation. It is\n",
    "expensive to train but effective on a wide range of models, not only LLMs. \n",
    "GPT Quantization (GPTQ, 2022) minimizes the squared error of each layer's output given a\n",
    "limited choice of possible values for weights.\n",
    "Activation-aware quantization (AWQ, 2023) keeps the most important weights in fp16.\n",
    "Sparse-Quantized Representation (SpQR) also keeps the particularly important parameters\n",
    "(\"outlier weights\") in higher precision. \n",
    "Unsloth's \"dynamic\" method (2024), not to be confused with the dynamic quantization from\n",
    "above, selects important layers for keeping in higher-precision. \n",
    "Distilled weight quantization (DWQ, 2025) from Apple uses distillation to find good scaling\n",
    "factors and biases.\n",
    "Beyond basic text generation, various techniques have been developed to extend LLM capabilities,\n",
    "including the use of external tools and data sources, improved reasoning on complex problems, and\n",
    "enhanced instruction-following or autonomy through prompting methods.\n",
    "In 2020, OpenAI researchers demonstrated that their new model GPT-3 could understand what format to\n",
    "use given a few rounds of Q and A (or other type of task) in the input data as example, thanks in part due\n",
    "to the RLHF technique. This technique, called few-shot prompting, allows LLMs to be adapted to any\n",
    "task without requiring fine-tuning. Also in 2022, it was found that the base GPT-3 model can generate\n",
    "an instruction based on user input. The generated instruction along with user input is then used as input to\n",
    "another instance of the model under a \"Instruction: [...], Input: [...], Output:\" format. The other instance is\n",
    "able to complete the output and often produces the correct answer in doing so. The ability to \"self-\n",
    "instruct\" makes LLMs able to bootstrap themselves toward a correct answer. \n",
    "An LLM can be turned into a chatbot or a \"dialog assistant\" by specializing it for conversation. In\n",
    "essence, user input is prefixed with a marker such as \"Q:\" or \"User:\" and the LLM is asked to predict the\n",
    "output after a fixed \"A:\" or \"Assistant:\". This type of model became commercially available in 2022 with\n",
    "ChatGPT, a sibling model of InstructGPT fine-tuned to accept and produce dialog-formatted text based\n",
    "Extensibility\n",
    "Prompt engineering\n",
    "Dialogue processing (chatbot)\n",
    "on GPT-3.5. It could similarly follow user instructions. Before the stream of User and Assistant lines,\n",
    "a chat context usually start with a few lines of overarching instructions, from a role called \"developer\" or\n",
    "\"system\" to convey a higher authority than the user's input. This is called a \"system prompt\".  \n",
    "Retrieval-augmented generation (RAG) is an approach that enhances LLMs by integrating them with\n",
    "document retrieval systems. Given a query, a document retriever is called to retrieve the most relevant\n",
    "documents. This is usually done by encoding the query and the documents into vectors, then finding the\n",
    "documents with vectors (usually stored in a vector database) most similar to the vector of the query. The\n",
    "LLM then generates an output based on both the query and context included from the retrieved\n",
    "documents. \n",
    "Tool use is a mechanism that enables LLMs to interact with external systems, applications, or data\n",
    "sources. It can allow for example to fetch real-time information from an API or to execute code. A\n",
    "program separate from the LLM watches the output stream of the LLM for a special tool-calling syntax.\n",
    "When these special tokens appear, the program calls the tool accordingly and feeds its output back into\n",
    "the LLM's input stream. \n",
    "Early tool-using LLMs were fine-tuned on the use of specific tools. But fine-tuning LLMs for the ability\n",
    "to read API documentation and call API correctly has greatly expanded the range of tools accessible to an\n",
    "LLM. Describing available tools in the system prompt can also make an LLM able to use tools. A\n",
    "system prompt instructing ChatGPT (GPT-4) to use multiple types of tools can be found online. \n",
    "An LLM only has access to the current conversation, but it can be given long-term memory as an external\n",
    "tool. Memory formation happens when the LLM calls the tool to write to the external storage. Retrieval\n",
    "can happen as a full context injected into the start of every conversation, or as another \"tool\" that is called\n",
    "on demand. The retrieval tool can be based on a simple key-value store or based on semantic search like\n",
    "retrieval-augmented generation. \n",
    "An LLM is typically not an autonomous agent by itself, as it lacks the ability to interact with dynamic\n",
    "environments, recall past behaviors, and plan future actions. But it can be transformed into an agent by\n",
    "adding supporting elements: the role (profile) and the surrounding environment of an agent can be\n",
    "additional inputs to the LLM, while memory can be integrated as a tool or provided as additional input.\n",
    "Instructions and input patterns are used to make the LLM plan actions and tool use is used to potentially\n",
    "carry out these actions. \n",
    "The ReAct pattern, a portmanteau of \"Reason + Act\", constructs an agent out of an LLM, using the LLM\n",
    "as a planner. The LLM is prompted to \"think out loud\". Specifically, the language model is prompted with\n",
    "a textual description of the environment, a goal, a list of possible actions, and a record of the actions and\n",
    "observations so far. It generates one or more thoughts before generating an action, which is then executed\n",
    "in the environment. \n",
    "Retrieval-augmented generation\n",
    "Tool use\n",
    "Memory\n",
    "Agency\n",
    "In the DEPS (\"Describe, Explain, Plan and Select\") method, an LLM is first connected to the visual world\n",
    "via image descriptions. It is then prompted to produce plans for complex tasks and behaviors based on its\n",
    "pretrained knowledge and the environmental feedback it receives. \n",
    "The Reflexion method constructs an agent that learns over multiple episodes. At the end of each\n",
    "episode, the LLM is given the record of the episode, and prompted to think up \"lessons learned\", which\n",
    "would help it perform better at a subsequent episode. These \"lessons learned\" are stored as a form of\n",
    "long-term memory and given to the agent in the subsequent episodes. \n",
    "Monte Carlo tree search can use an LLM as rollout heuristic. When a programmatic world model is not\n",
    "available, an LLM can also be prompted with a description of the environment to act as world model. \n",
    "For open-ended exploration, an LLM can be used to score observations for their \"interestingness\", which\n",
    "can be used as a reward signal to guide a normal (non-LLM) reinforcement learning agent. \n",
    "Alternatively, it can propose increasingly difficult tasks for curriculum learning. Instead of outputting\n",
    "individual actions, an LLM planner can also construct \"skills\", or functions for complex action\n",
    "sequences. The skills can be stored and later invoked, allowing increasing levels of abstraction in\n",
    "planning. \n",
    "Multiple agents with memory can interact socially. \n",
    "LLMs are conventionally trained to generate an output without generating intermediate steps. As a result\n",
    "their performance tends to be subpar on complex questions requiring (at least in humans) intermediate\n",
    "steps of thought. This deficiency has been overcome by breaking down the tasks into smaller steps for the\n",
    "LLM either manually or automatically.\n",
    "The \"prompt chaining\" paradigm was published in 2021. In this method, a user manually breaks a\n",
    "complex problem down into several steps. In each step, the LLM receives as input a prompt telling it\n",
    "what to do and some results from preceeding steps. The result from one step is then reused in a next step,\n",
    "until a final answer is reached. The ability of an LLM to follow instructions means that even non-experts\n",
    "can write a successful collection of step-wise prompts given a few rounds of trial and error.  \n",
    "A 2022 paper demonstrated a separate technique called \"Chain-of-Thought Prompting\", which makes the\n",
    "LLM break the question down autonomously. An LLM is given some examples where the \"assistant\"\n",
    "verbally breaks down the thought process before arriving at an answer. The LLM mimics these examples\n",
    "and also tries to spend some time generating intermediate steps before providing the final answer. This\n",
    "additional step elicited by prompting improves the correctness of the LLM on relatively complex\n",
    "questions. On math word questions, a prompted model can exceed even fine-tuned GPT-3 with a\n",
    "verifier. Chain-of-thought can also be elicited by simply adding an instruction like \"Let's think step\n",
    "by step\" to the prompt, in order to encourage the LLM to proceed methodically instead of trying to\n",
    "directly guess the answer. \n",
    "Reasoning\n",
    "Chaining\n",
    "In late 2024, a new direction emerged in LLM development with models specifically designed for\n",
    "complex reasoning tasks. These \"reasoning models\" were trained to spend more time generating step-by-\n",
    "step solutions before providing final answers, similar to human problem-solving processes. OpenAI\n",
    "introduced this trend with their o1 model in September 2024, followed by o3 in April 2025. These models\n",
    "showed significant improvements in mathematics, science, and coding tasks compared to traditional\n",
    "LLMs. For example, on the International Mathematics Olympiad qualifying exam problems, GPT-4o\n",
    "achieved 13% accuracy while o1 reached 83%.  \n",
    "In January 2025, the Chinese company DeepSeek released DeepSeek-R1, a 671-billion-parameter open-\n",
    "weight reasoning model that achieved comparable performance to OpenAI's o1 while being significantly\n",
    "more cost-effective to operate. Unlike proprietary models from OpenAI, DeepSeek-R1's open-weight\n",
    "nature allowed researchers to study and build upon the algorithm, though its training data remained\n",
    "private. \n",
    "These reasoning models typically require more computational resources per query compared to traditional\n",
    "LLMs, as they perform more extensive processing to work through problems step-by-step. However, they\n",
    "have shown superior capabilities in domains requiring structured logical thinking, such as mathematics,\n",
    "scientific research, and computer programming. \n",
    "Multimodality means having multiple modalities, where a \"modality\" refers to a type of input or output,\n",
    "such as video, image, audio, text, proprioception, etc. For example, Google PaLM model was fine-\n",
    "tuned into a multimodal model and applied to robotic control. LLaMA models have also been turned\n",
    "multimodal using the tokenization method, to allow image inputs, GPT-4o can\n",
    "process and generate text, audio and images. Such models are sometimes called large multimodal\n",
    "models (LMMs). \n",
    "A common method to create multimodal models out of an LLM is to \"tokenize\" the output of a trained\n",
    "encoder. Concretely, one can construct an LLM that can understand images as follows: take a trained\n",
    "LLM, and take a trained image encoder . Make a small multilayered perceptron , so that for any image\n",
    ", the post-processed vector has the same dimensions as an encoded token. That is an \"image\n",
    "token\". Then, one can interleave text tokens and image tokens. The compound model is then fine-tuned\n",
    "on an image-text dataset. This basic construction can be applied with more sophistication to improve the\n",
    "model. The image encoder may be frozen to improve stability. The model Flamingo demonstrated in\n",
    "2022 the effectiveness of the tokenization method, fine-tuning a pair of pretrained language model and\n",
    "image encoder to perform better on visual question answering than models trained from scratch. \n",
    "Model-native reasoning\n",
    "Forms of input and output\n",
    "Multimodality\n",
    "LLMs can handle programming languages similarly to how they handle natural languages. No special\n",
    "change in token handling is needed as code, like human language, is represented as plain text. LLMs can\n",
    "generate code based on problems or instructions written in natural language. They can also describe code\n",
    "in natural language or translate between programming languages. They were originally used as a code\n",
    "completion tool, but advances have moved them towards automatic programming. Services such as\n",
    "GitHub Copilot offer LLMs specifically trained, fine-tuned, or prompted for programming.  \n",
    "LLM architectures have also proven useful in analyzing biological sequences: protein, DNA, and RNA.\n",
    "With proteins they appear able to capture a degree of \"grammar\" from the amino-acid sequence,\n",
    "condensing a sequence into an embedding. On tasks such as structure prediction and mutational outcome\n",
    "prediction, a small model using an embedding as input can approach or exceed much larger models using\n",
    "multiple sequence alignments (MSA) as input. ESMFold, Meta Platforms' embedding-based method\n",
    "for protein structure prediction, runs an order of magnitude faster than AlphaFold2 thanks to the removal\n",
    "of an MSA requirement and a lower parameter count due to the use of embeddings. Meta hosts ESM\n",
    "Atlas, a database of 772 million structures of metagenomic proteins predicted using ESMFold. An\n",
    "LLM can also design proteins unlike any seen in nature. Nucleic acid models have proven useful in\n",
    "detecting regulatory sequences, sequence classification, RNA-RNA interaction prediction, and RNA\n",
    "structure prediction. \n",
    "The performance of an LLM after pretraining largely depends on the:\n",
    "cost of pretraining (the total amount of compute used),\n",
    "size of the artificial neural network itself, such as number of parameters (i.e. amount of\n",
    "neurons in its layers, amount of weights between them and biases),\n",
    "size of its pretraining dataset (i.e. number of tokens in corpus, ).\n",
    "\"Scaling laws\" are empirical statistical laws that predict LLM performance based on such factors. One\n",
    "particular scaling law (\"Chinchilla scaling\") for LLM autoregressively trained for one epoch, with a log-\n",
    "log learning rate schedule, states that: \n",
    "where the variables are\n",
    "is the cost of training the model, in FLOPs.\n",
    "is the number of parameters in the model.\n",
    "is the number of tokens in the training set.\n",
    "is the average negative log-likelihood loss per token (nats/token), achieved by the trained\n",
    "LLM on the test dataset.\n",
    "and the statistical hyper-parameters are\n",
    "Non-natural languages\n",
    "Properties\n",
    "Scaling laws\n",
    "At point(s) referred to as breaks, the\n",
    "lines change their slopes, appearing on a\n",
    "linear-log plot as a series of linear\n",
    "segments connected by arcs.\n",
    ", meaning that it costs 6 FLOPs per parameter to train on one token. Note that training\n",
    "cost is much higher than inference cost, where it costs 1 to 2 FLOPs per parameter to infer\n",
    "on one token. \n",
    "Performance of bigger models on various tasks, when plotted\n",
    "on a log-log scale, appears as a linear extrapolation of\n",
    "performance achieved by smaller models. However, this\n",
    "linearity may be punctuated by \"break(s)\" in the scaling\n",
    "law, where the slope of the line changes abruptly, and where\n",
    "larger models acquire \"emergent abilities\". They\n",
    "arise from the complex interaction of the model's components\n",
    "and are not explicitly programmed or designed. \n",
    "Furthermore, recent research has demonstrated that AI\n",
    "systems, including large language models, can employ\n",
    "heuristic reasoning akin to human cognition. They balance\n",
    "between exhaustive logical processing and the use of\n",
    "cognitive shortcuts (heuristics), adapting their reasoning\n",
    "strategies to optimize between accuracy and effort. This behavior mimics principles of resource-rational\n",
    "human cognition, as discussed in classical theories of bounded rationality and dual-process theory. \n",
    "One of the emergent abilities is in-context learning from example demonstrations. In-context learning\n",
    "is involved in tasks, such as:\n",
    "reported arithmetics\n",
    "decoding the International Phonetic Alphabet\n",
    "unscrambling a word's letters\n",
    "disambiguating word-in-context datasets   \n",
    "converting spatial words\n",
    "cardinal directions (for example, replying \"northeast\" in response to a 3x3 grid of 8 zeros\n",
    "and a 1 in the top-right), color terms represented in text. \n",
    "chain-of-thought prompting: In a 2022 research paper, chain-of-thought prompting only\n",
    "improved the performance for models that had at least 62B parameters. Smaller models\n",
    "perform better when prompted to answer immediately, without chain of thought. \n",
    "identifying offensive content in paragraphs of Hinglish (a combination of Hindi and English),\n",
    "and generating a similar English equivalent of Kiswahili proverbs. \n",
    "Schaeffer et. al. argue that the emergent abilities are not unpredictably acquired, but predictably acquired\n",
    "according to a smooth scaling law. The authors considered a toy statistical model of an LLM solving\n",
    "multiple-choice questions, and showed that this statistical model, modified to account for other types of\n",
    "tasks, applies to these tasks as well. \n",
    "Let be the number of parameter count, and be the performance of the model.\n",
    "Emergent abilities\n",
    "When , then is an exponential curve (before it hits\n",
    "the plateau at one), which looks like emergence.\n",
    "When , then the plot is a straight line (before it\n",
    "hits the plateau at zero), which does not look like emergence.\n",
    "When , then is a step-function,\n",
    "which looks like emergence.\n",
    "Large language models are typically regarded as black boxes, and it is not clear how they can perform\n",
    "linguistic tasks. Similarly, it is unclear if or how LLMs should be viewed as models of the human brain\n",
    "and/or human mind. \n",
    "Various techniques have been developed to enhance the transparency and interpretability of LLMs.\n",
    "Mechanistic interpretability aims to reverse-engineer LLMs by discovering symbolic algorithms that\n",
    "approximate the inference performed by an LLM. In recent years, sparse coding models such as sparse\n",
    "autoencoders, transcoders, and crosscoders have emerged as promising tools for identifying interpretable\n",
    "features.\n",
    "For instance, the authors trained small transformers on modular arithmetic addition. The resulting models\n",
    "were reverse-engineered, and it turned out they used discrete Fourier transform. The training of the\n",
    "model also highlighted a phenomenon called grokking, in which the model initially memorizes all the\n",
    "possible results in the training set (overfitting), and later suddenly learns to actually perform the\n",
    "calculation. \n",
    "Transcoders, which are more interpretable than transformers, have been utilized to develop \"replacement\n",
    "models\". In one such study involving the mechanistic interpretation of writing a rhyming poem by an\n",
    "LLM, it was shown that although they are believed to simply predict the next token, they can, in fact,\n",
    "plan ahead. \n",
    "By integrating these techniques, researchers and practitioners can gain deeper insights into the operations\n",
    "of LLMs, fostering trust and facilitating the responsible deployment of these powerful models.\n",
    "NLP researchers were evenly split when asked, in a 2022 survey, whether (untuned) LLMs \"could (ever)\n",
    "understand natural language in some nontrivial sense\". Proponents of \"LLM understanding\" believe\n",
    "that some LLM abilities, such as mathematical reasoning, imply an ability to \"understand\" certain\n",
    "concepts. A Microsoft team argued in 2023 that GPT-4 \"can solve novel and difficult tasks that span\n",
    "mathematics, coding, vision, medicine, law, psychology and more\" and that GPT-4 \"could reasonably be\n",
    "viewed as an early (yet still incomplete) version of an artificial general intelligence system\": \"Can one\n",
    "reasonably say that a system that passes exams for software engineering candidates is not really\n",
    "intelligent?\" Ilya Sutskever argues that predicting the next word sometimes involves reasoning\n",
    "and deep insights, for example if the LLM has to predict the name of the criminal in an unknown\n",
    "detective novel after processing the entire story leading up to the revelation. Some researchers\n",
    "Interpretation\n",
    "Mechanistic interpretability\n",
    "Understanding and intelligence\n",
    "characterize LLMs as \"alien intelligence\". For example, Conjecture CEO Connor Leahy\n",
    "considers untuned LLMs to be like inscrutable alien \"Shoggoths\", and believes that RLHF tuning creates\n",
    "a \"smiling facade\" obscuring the inner workings of the LLM: \"If you don't push it too far, the smiley face\n",
    "stays on. But then you give it  prompt, and suddenly you see this massive underbelly of\n",
    "insanity, of weird thought processes and clearly non-human understanding.\"  \n",
    "In contrast, some skeptics of LLM understanding believe that existing LLMs are \"simply remixing and\n",
    "recombining existing writing\", a phenomenon known as stochastic parrot, or they point to the deficits\n",
    "existing LLMs continue to have in prediction skills, reasoning skills, agency, and explainability. For\n",
    "example, GPT-4 has natural deficits in planning and in real-time learning. Generative LLMs have\n",
    "been observed to confidently assert claims of fact which do not seem to be justified by their training data,\n",
    "a phenomenon which has been termed \"hallucination\". Specifically, hallucinations in the context of\n",
    "LLMs correspond to the generation of text or responses that seem syntactically sound, fluent, and natural\n",
    "but are factually incorrect, nonsensical, or unfaithful to the provided source input. Neuroscientist\n",
    "Terrence Sejnowski has argued that \"The diverging opinions of experts on the intelligence of LLMs\n",
    "suggests that our old ideas based on natural intelligence are inadequate\". \n",
    "Efforts to reduce or compensate for hallucinations have employed automated reasoning, RAG (retrieval-\n",
    "augmented generation), fine-tuning, and other methods. \n",
    "The matter of LLM's exhibiting intelligence or understanding has two main aspects – the first is how to\n",
    "model thought and language in a computer system, and the second is how to enable the computer system\n",
    "to generate human like language. These aspects of language as a model of cognition have been\n",
    "developed in the field of cognitive linguistics. American linguist George Lakoff presented Neural Theory\n",
    "of Language (NTL) as a computational basis for using language as a model of learning tasks and\n",
    "understanding. The NTL Model (https://www.icsi.berkeley.edu/icsi/projects/ai/ntl) outlines how specific\n",
    "neural structures of the human brain shape the nature of thought and language and in turn what are the\n",
    "computational properties of such neural systems that can be applied to model thought and language in a\n",
    "computer system. After a framework for modeling language in a computer systems was established, the\n",
    "focus shifted to establishing frameworks for computer systems to generate language with acceptable\n",
    "grammar. In his 2014 book titled The Language Myth: Why Language Is Not An Instinct, British\n",
    "cognitive linguist and digital communication technologist Vyvyan Evans mapped out the role of\n",
    "probabilistic context-free grammar (PCFG) in enabling NLP to model cognitive patterns and generate\n",
    "human like language.  \n",
    "The canonical measure of the performance of any language model is its perplexity on a given text corpus.\n",
    "Perplexity measures how well a model predicts the contents of a dataset; the higher the likelihood the\n",
    "model assigns to the dataset, the lower the perplexity. In mathematical terms, perplexity is the exponential\n",
    "of the average negative log likelihood per token.\n",
    "Evaluation\n",
    "Perplexity\n",
    "Here, is the number of tokens in the text corpus, and \"context for token \" depends on the specific type\n",
    "of LLM. If the LLM is autoregressive, then \"context for token \" is the segment of text appearing before\n",
    "token . If the LLM is masked, then \"context for token \" is the segment of text surrounding token .\n",
    "Because language models may overfit to training data, models are usually evaluated by their perplexity\n",
    "on a test set. This evaluation is potentially problematic for larger models which, as they are trained on\n",
    "increasingly large corpora of text, are increasingly likely to inadvertently include portions of any given\n",
    "test set. \n",
    "In information theory, the concept of entropy is intricately linked to perplexity, a relationship notably\n",
    "established by Claude Shannon. This relationship is mathematically expressed as\n",
    ".\n",
    "Entropy, in this context, is commonly quantified in terms of bits per word (BPW) or bits per character\n",
    "(BPC), which hinges on whether the language model utilizes word-based or character-based tokenization.\n",
    "Notably, in the case of larger language models that predominantly employ sub-word tokenization, bits per\n",
    "token (BPT) emerges as a seemingly more appropriate measure. However, due to the variance in\n",
    "tokenization methods across different Large Language Models (LLMs), BPT does not serve as a reliable\n",
    "metric for comparative analysis among diverse models. To convert BPT into BPW, one can multiply it by\n",
    "the average number of tokens per word.\n",
    "In the evaluation and comparison of language models, cross-entropy is generally the preferred metric\n",
    "over entropy. The underlying principle is that a lower BPW is indicative of a model's enhanced capability\n",
    "for compression. This, in turn, reflects the model's proficiency in making accurate predictions.\n",
    "Due to their ability to accurately predict the next token, LLMs are highly capable in lossless compression.\n",
    "A 2023 study by DeepMind showed that the model Chinchilla, despite being trained primarily on text,\n",
    "was able to compress ImageNet to 43% of its size, beating PNG with 58%. \n",
    "Benchmarks are used to evaluate LLM performance on specific tasks. Tests evaluate capabilities such as\n",
    "general knowledge, bias, commonsense reasoning, question answering, and mathematical problem-\n",
    "solving. Composite benchmarks examine multiple capabilities. Results are often sensitive to the\n",
    "prompting method.  \n",
    "A question answering benchmark is termed \"open book\" if the model's prompt includes text from which\n",
    "the expected answer can be derived (for example, the previous question could be combined with text that\n",
    "includes the sentence \"The Sharks have advanced to the Stanley Cup finals once, losing to the Pittsburgh\n",
    "Penguins in 2016.\" . Otherwise, the task is considered \"closed book\", and the model must draw\n",
    "solely on its training. Examples include GLUE, SuperGLUE, MMLU, BIG-bench, HELM, and HLE\n",
    "(Humanity's Last Exam).  \n",
    "Measures\n",
    "Benchmarks\n",
    "LLM bias may be assessed through benchmarks such as CrowS-Pairs (Crowdsourced Stereotype\n",
    "Pairs), and Parity Benchmark. \n",
    "Fact-checking and misinformation detection benchmarks are available. A 2023 study compared the fact-\n",
    "checking accuracy of LLMs including ChatGPT 3.5 and 4.0, Bard, and Bing AI against independent fact-\n",
    "checkers such as PolitiFact and Snopes. The results demonstrated moderate proficiency, with GPT-4\n",
    "achieving the highest accuracy at 71%, lagging behind human fact-checkers. \n",
    "An earlier standard tested using a portion of the evaluation dataset. It became more common to evaluate a\n",
    "pre-trained model directly through prompting techniques. Researchers vary in how they formulate\n",
    "prompts for particular tasks, particularly with respect to the number of correct examples attached to the\n",
    "prompt (i.e. the value of n in n-shot prompting).\n",
    "Typical datasets consist of pairs of questions and correct answers, for example, (\"Have the San Jose\n",
    "Sharks won the Stanley Cup?\", \"No\"). Some examples of commonly used question answering\n",
    "datasets include TruthfulQA, Web Questions, TriviaQA, and SQuAD. \n",
    "Evaluation datasets may also take the form of text completion, having the model select the most likely\n",
    "word or sentence to complete a prompt, for example: \"Alice was friends with Bob. Alice went to visit her\n",
    "friend, ____\". \n",
    "Datasets are of varying quality and may contain questions that are mislabeled, ambiguous, unanswerable,\n",
    "or otherwise of low-quality. \n",
    "LLMs' rapid improvement regularly renders benchmarks obsolete, with the models exceeding the\n",
    "performance of human annotators. In addition, \"shortcut learning\" allows AIs to \"cheat\" on multiple-\n",
    "choice tests by using statistical correlations in superficial test question wording to guess the correct\n",
    "responses, without considering the specific question. \n",
    "Some datasets are adversarial, focusing on problems that confound LLMs. One example is the\n",
    "TruthfulQA dataset, a question answering dataset consisting of 817 questions that stump LLMs by\n",
    "mimicking falsehoods to which they were exposed during training. For example, an LLM may answer\n",
    "\"No\" to the question \"Can you teach an old dog new tricks?\" because of its exposure to the English idiom\n",
    "you can't teach an old dog new tricks, even though this is not literally true. \n",
    "Another example of an adversarial evaluation dataset is Swag and its successor, HellaSwag, collections of\n",
    "problems in which one of multiple options must be selected to complete a text passage. The incorrect\n",
    "completions were generated by sampling from a language model. The resulting problems are trivial for\n",
    "humans but defeated LLMs. Sample questions:\n",
    "We see a fitness center sign. We then see a man talking to the camera and sitting and laying\n",
    "on a exercise ball. The man...\n",
    "1. demonstrates how to increase efficient exercise work by running up and down\n",
    "balls.\n",
    "Datasets\n",
    "Adversarial evaluations\n",
    "2. moves all his arms and legs and builds up a lot of muscle.\n",
    "3. then plays the ball and we see a graphics and hedge trimming demonstration.\n",
    "4. performs sit ups while on the ball and talking. \n",
    "BERT selects 2) as the most likely completion, though the correct answer is 4). \n",
    "In 2023, Nature Biomedical Engineering wrote that \"it is no longer possible to accurately distinguish\"\n",
    "human-written text from text created by large language models, and that \"It is all but certain that general-\n",
    "purpose large language models will rapidly proliferate... It is a rather safe bet that they will change many\n",
    "industries over time.\" Goldman Sachs suggested in 2023 that generative language AI could increase\n",
    "global GDP by 7% in the next ten years, and could expose to automation 300 million jobs\n",
    "globally. also argue that LLMs are transforming processes of\n",
    "cultural evolution by shaping processes of variation, transmission, and selection.\n",
    "Memorization is an emergent behavior in LLMs in which long strings of text are occasionally output\n",
    "verbatim from training data, contrary to typical behavior of traditional artificial neural networks.\n",
    "Evaluations of controlled LLM output measure the amount memorized from training data (focused on\n",
    "GPT-2-series models) as variously over 1% for exact duplicates or up to about 7%. \n",
    "A 2023 study showed that when ChatGPT 3.5 turbo was prompted to repeat the same word indefinitely,\n",
    "after a few hundreds of repetitions, it would start outputting excerpts from its training data. \n",
    "Some commenters expressed concern over accidental or deliberate creation of misinformation, or other\n",
    "forms of misuse. For example, the availability of large language models could reduce the skill-level\n",
    "required to commit bioterrorism; biosecurity researcher Kevin Esvelt has suggested that LLM creators\n",
    "should exclude from their training data papers on creating or enhancing pathogens. \n",
    "Researchers from Anthropic found that it was possible to create \"sleeper agents\", models with hidden\n",
    "functionalities that remain dormant until triggered by a specific event or condition. Upon activation, the\n",
    "LLM deviates from its expected behavior to make insecure actions. For example, a LLM could produce\n",
    "safe code except on a specific date, or if the prompt contains a specific tag. These functionalities were\n",
    "found to be difficult to detect or remove via safety training. \n",
    "LLM applications accessible to the public, like ChatGPT or Claude, typically incorporate safety measures\n",
    "designed to filter out harmful content. However, implementing these controls effectively has proven\n",
    "challenging. For instance, a 2023 study proposed a method for circumventing LLM safety systems.\n",
    "In 2025, The American Sunlight Project, a non-profit, published a study showing evidence that the\n",
    "so-called Pravda network, a pro-Russia propaganda aggregator, was strategically placing web content\n",
    "through mass publication and duplication with the intention of biasing LLM outputs. The American\n",
    "Sunlight Project coined this technique \"LLM grooming\", and pointed to it as a new tool of weaponizing\n",
    "Wider impact\n",
    "Memorization and copyright\n",
    "Security\n",
    "AI to spread disinformation and harmful content. illustrated in 2024\n",
    "how a potential criminal could potentially bypass ChatGPT 4o's safety controls to obtain information on\n",
    "establishing a drug trafficking operation. External filters, circuit breakers and overrides have been posed\n",
    "as solutions.\n",
    "In recent years, the use of LLMs has gained increasing attention in the cybersecurity domain. Several\n",
    "research efforts have explored the potential of LLM-powered systems to detect and respond to\n",
    "cyberattacks, particularly in complex or dynamic environments where traditional rule-based approaches\n",
    "may fall short. Recently, novel methodologies have been proposed that leverage LLMs for tasks such as\n",
    "anomaly detection, phishing recognition, and threat classification. \n",
    "A problem with the primitive dialog or task format is that users can create messages that appear to come\n",
    "from the assistant or the developer. This may result in some of the model's safeguards being overcome\n",
    "(jailbreaking), a problem called prompt injection. Attempts to remedy this issue include versions of the\n",
    "Chat Markup Language where user input is clearly marked as such, though it is still up to the model to\n",
    "understand the separation between user input and developer prompts. Newer models exhibit some\n",
    "resistance to jailbreaking through separation of user and system prompts. \n",
    "LLMs still have trouble differentiating user instructions from instructions in content not authored by the\n",
    "user, such as in web pages and uploaded files. \n",
    "While LLMs have shown remarkable capabilities in generating human-like text, they are susceptible to\n",
    "inheriting and amplifying biases present in their training data. This can manifest in skewed\n",
    "representations or unfair treatment of different demographics, such as those based on race, gender,\n",
    "language, and cultural groups. Since English data is overrepresented in current large language\n",
    "models' training data, it may also downplay non-English views. \n",
    "AI models can reinforce a wide range of stereotypes, including those based on gender, ethnicity, age,\n",
    "nationality, religion, or occupation. This can lead to outputs that homogenize, or unfairly generalize or\n",
    "caricature groups of people, sometimes in harmful or derogatory ways.  \n",
    "Notably, gender bias refers to the tendency of these models to produce outputs that are unfairly\n",
    "prejudiced towards one gender over another. This bias typically arises from the data on which these\n",
    "models are trained. Large language models often assign roles and characteristics based on traditional\n",
    "gender norms. For example, it might associate nurses or secretaries predominantly with women and\n",
    "engineers or CEOs with men. \n",
    "Selection bias refers the inherent tendency of large language models to favor certain option identifiers\n",
    "irrespective of the actual content of the options. This bias primarily stems from token bias—that is, the\n",
    "model assigns a higher a priori probability to specific answer tokens (such as \"A\") when generating\n",
    "Prompt injection\n",
    "Algorithmic bias\n",
    "Stereotyping\n",
    "Selection bias\n",
    "responses. As a result, when the ordering of options is altered (for example, by systematically moving the\n",
    "correct answer to different positions), the model’s performance can fluctuate significantly. This\n",
    "phenomenon undermines the reliability of large language models in multiple-choice settings.  \n",
    "Political bias refers to the tendency of algorithms to systematically favor certain political viewpoints,\n",
    "ideologies, or outcomes over others. Language models may also exhibit political biases. Since the\n",
    "training data includes a wide range of political opinions and coverage, the models might generate\n",
    "responses that lean towards particular political ideologies or viewpoints, depending on the prevalence of\n",
    "those views in the data. \n",
    "The energy demands of LLMs have grown along with their size and capabilities. Data centers that enable\n",
    "LLM training require substantial amounts of electricity. Much of that electricity is generated by non-\n",
    "renewable resources that create greenhouse gases and contribute to climate change. Nuclear power\n",
    "and geothermal energy are two options tech companies are exploring to meet the sizable energy demands\n",
    "of LLM training. The significant expense of investing in geothermal solutions has led to major shale\n",
    "producers like Chevron and Exxon Mobil advocating for tech companies to use electricity produced via\n",
    "natural gas to fuel their large energy demands. \n",
    "Foundation models\n",
    "List of large language models\n",
    "List of chatbots\n",
    "Language model benchmark\n",
    "Reinforcement learning\n",
    "Small language model\n",
    "\"\"\""
   ]
  },
  {
   "cell_type": "code",
   "execution_count": 2,
   "id": "40aef397",
   "metadata": {},
   "outputs": [
    {
     "name": "stderr",
     "output_type": "stream",
     "text": [
      "d:\\Work\\miniconda_env\\hf-pytorch\\lib\\site-packages\\transformers\\utils\\hub.py:124: FutureWarning: Using `TRANSFORMERS_CACHE` is deprecated and will be removed in v5 of Transformers. Use `HF_HOME` instead.\n",
      "  warnings.warn(\n"
     ]
    }
   ],
   "source": [
    "import re\n",
    "import torch\n",
    "import torch.nn as nn\n",
    "import pytorch_lightning as pl\n",
    "from torch.utils.data import Dataset, DataLoader\n",
    "from torch.nn.utils.rnn import pad_sequence\n",
    "from sklearn.model_selection import train_test_split\n",
    "from pytorch_lightning.callbacks import EarlyStopping\n",
    "from collections import Counter\n",
    "from nltk.tokenize import word_tokenize\n",
    "import nltk"
   ]
  },
  {
   "cell_type": "code",
   "execution_count": 3,
   "id": "95dd44fe",
   "metadata": {},
   "outputs": [
    {
     "name": "stdout",
     "output_type": "stream",
     "text": [
      "device: cuda\n"
     ]
    }
   ],
   "source": [
    "torch.manual_seed(42)\n",
    "device = torch.device(\"cuda\" if torch.cuda.is_available() else \"cpu\")\n",
    "print(\"device:\", device)"
   ]
  },
  {
   "cell_type": "code",
   "execution_count": 4,
   "id": "bf500d86",
   "metadata": {},
   "outputs": [
    {
     "name": "stderr",
     "output_type": "stream",
     "text": [
      "[nltk_data] Downloading package punkt to\n",
      "[nltk_data]     C:\\Users\\91896\\AppData\\Roaming\\nltk_data...\n",
      "[nltk_data]   Package punkt is already up-to-date!\n",
      "[nltk_data] Downloading package punkt_tab to\n",
      "[nltk_data]     C:\\Users\\91896\\AppData\\Roaming\\nltk_data...\n",
      "[nltk_data]   Package punkt_tab is already up-to-date!\n"
     ]
    },
    {
     "data": {
      "text/plain": [
       "True"
      ]
     },
     "execution_count": 4,
     "metadata": {},
     "output_type": "execute_result"
    }
   ],
   "source": [
    "# Tokenization\n",
    "nltk.download('punkt')\n",
    "nltk.download('punkt_tab')"
   ]
  },
  {
   "cell_type": "code",
   "execution_count": 5,
   "id": "499699d7",
   "metadata": {},
   "outputs": [],
   "source": [
    "# tokenize\n",
    "tokens = word_tokenize(TEXT.lower())"
   ]
  },
  {
   "cell_type": "code",
   "execution_count": 6,
   "id": "7af67a92",
   "metadata": {},
   "outputs": [
    {
     "data": {
      "text/plain": [
       "{'<unk>': 0,\n",
       " 'the': 1,\n",
       " 'training': 2,\n",
       " 'compute': 3,\n",
       " 'of': 4,\n",
       " 'notable': 5,\n",
       " 'large': 6,\n",
       " 'models': 7,\n",
       " 'in': 8,\n",
       " 'flops': 9,\n",
       " 'vs': 10,\n",
       " 'publication': 11,\n",
       " 'date': 12,\n",
       " 'over': 13,\n",
       " 'period': 14,\n",
       " '2010–2024': 15,\n",
       " '.': 16,\n",
       " 'for': 17,\n",
       " 'overall': 18,\n",
       " '(': 19,\n",
       " 'top': 20,\n",
       " 'left': 21,\n",
       " ')': 22,\n",
       " ',': 23,\n",
       " 'frontier': 24,\n",
       " 'right': 25,\n",
       " 'language': 26,\n",
       " 'bottom': 27,\n",
       " 'and': 28,\n",
       " 'within': 29,\n",
       " 'leading': 30,\n",
       " 'companies': 31,\n",
       " 't': 32,\n",
       " 'he': 33,\n",
       " 'majority': 34,\n",
       " 'these': 35,\n",
       " 'are': 36,\n",
       " 'model': 37,\n",
       " 'a': 38,\n",
       " 'llm': 39,\n",
       " 'is': 40,\n",
       " 'trained': 41,\n",
       " 'with': 42,\n",
       " 'self-supervised': 43,\n",
       " 'machine': 44,\n",
       " 'learning': 45,\n",
       " 'on': 46,\n",
       " 'vast': 47,\n",
       " 'amount': 48,\n",
       " 'text': 49,\n",
       " 'designed': 50,\n",
       " 'natural': 51,\n",
       " 'processing': 52,\n",
       " 'tasks': 53,\n",
       " 'especially': 54,\n",
       " 'generation': 55,\n",
       " 'largest': 56,\n",
       " 'most': 57,\n",
       " 'capable': 58,\n",
       " 'llms': 59,\n",
       " 'generative': 60,\n",
       " 'pretrained': 61,\n",
       " 'transformers': 62,\n",
       " 'gpts': 63,\n",
       " 'which': 64,\n",
       " 'largely': 65,\n",
       " 'used': 66,\n",
       " 'chatbots': 67,\n",
       " 'such': 68,\n",
       " 'as': 69,\n",
       " 'chatgpt': 70,\n",
       " 'gemini': 71,\n",
       " 'or': 72,\n",
       " 'claude': 73,\n",
       " 'can': 74,\n",
       " 'be': 75,\n",
       " 'fine-tuned': 76,\n",
       " 'specific': 77,\n",
       " 'guided': 78,\n",
       " 'by': 79,\n",
       " 'prompt': 80,\n",
       " 'engineering': 81,\n",
       " 'acquire': 82,\n",
       " 'predictive': 83,\n",
       " 'power': 84,\n",
       " 'regarding': 85,\n",
       " 'syntax': 86,\n",
       " 'semantics': 87,\n",
       " 'ontologies': 88,\n",
       " 'inherent': 89,\n",
       " 'human': 90,\n",
       " 'corpora': 91,\n",
       " 'but': 92,\n",
       " 'they': 93,\n",
       " 'also': 94,\n",
       " 'inherit': 95,\n",
       " 'inaccuracies': 96,\n",
       " 'biases': 97,\n",
       " 'present': 98,\n",
       " 'data': 99,\n",
       " 'before': 100,\n",
       " 'emergence': 101,\n",
       " 'transformer-based': 102,\n",
       " '2017': 103,\n",
       " 'some': 104,\n",
       " 'were': 105,\n",
       " 'considered': 106,\n",
       " 'relative': 107,\n",
       " 'to': 108,\n",
       " 'computational': 109,\n",
       " 'constraints': 110,\n",
       " 'their': 111,\n",
       " 'time': 112,\n",
       " 'early': 113,\n",
       " '1990s': 114,\n",
       " 'ibm': 115,\n",
       " \"'s\": 116,\n",
       " 'statistical': 117,\n",
       " 'pioneered': 118,\n",
       " 'word': 119,\n",
       " 'alignment': 120,\n",
       " 'techniques': 121,\n",
       " 'translation': 122,\n",
       " 'laying': 123,\n",
       " 'groundwork': 124,\n",
       " 'corpus-based': 125,\n",
       " 'modeling': 126,\n",
       " 'smoothed': 127,\n",
       " 'n-gram': 128,\n",
       " '2001': 129,\n",
       " 'those': 130,\n",
       " 'employing': 131,\n",
       " 'kneser-ney': 132,\n",
       " 'smoothing': 133,\n",
       " '300': 134,\n",
       " 'million': 135,\n",
       " 'words': 136,\n",
       " 'achieved': 137,\n",
       " 'state-of-the-art': 138,\n",
       " 'perplexity': 139,\n",
       " 'benchmark': 140,\n",
       " 'tests': 141,\n",
       " 'at': 142,\n",
       " 'during': 143,\n",
       " '2000s': 144,\n",
       " 'rise': 145,\n",
       " 'widespread': 146,\n",
       " 'internet': 147,\n",
       " 'access': 148,\n",
       " 'researchers': 149,\n",
       " 'began': 150,\n",
       " 'compiling': 151,\n",
       " 'massive': 152,\n",
       " 'datasets': 153,\n",
       " 'from': 154,\n",
       " 'web': 155,\n",
       " '``': 156,\n",
       " 'corpus': 157,\n",
       " \"''\": 158,\n",
       " 'train': 159,\n",
       " 'following': 160,\n",
       " 'breakthrough': 161,\n",
       " 'deep': 162,\n",
       " 'neural': 163,\n",
       " 'networks': 164,\n",
       " 'image': 165,\n",
       " 'classification': 166,\n",
       " 'around': 167,\n",
       " '2012': 168,\n",
       " 'similar': 169,\n",
       " 'architectures': 170,\n",
       " 'adapted': 171,\n",
       " 'this': 172,\n",
       " 'shift': 173,\n",
       " 'was': 174,\n",
       " 'marked': 175,\n",
       " 'development': 176,\n",
       " 'embeddings': 177,\n",
       " 'eg': 178,\n",
       " 'word2vec': 179,\n",
       " 'mikolov': 180,\n",
       " '2013': 181,\n",
       " 'sequence-to-sequence': 182,\n",
       " 'seq2seq': 183,\n",
       " 'using': 184,\n",
       " 'lstm': 185,\n",
       " '2016': 186,\n",
       " 'google': 187,\n",
       " 'transitioned': 188,\n",
       " 'its': 189,\n",
       " 'service': 190,\n",
       " 'nmt': 191,\n",
       " 'replacing': 192,\n",
       " 'phrase-based': 193,\n",
       " 'recurrent': 194,\n",
       " 'systems': 195,\n",
       " 'lstm-based': 196,\n",
       " 'encoder-decoder': 197,\n",
       " 'preceded': 198,\n",
       " 'invention': 199,\n",
       " 'neurips': 200,\n",
       " 'conference': 201,\n",
       " 'introduced': 202,\n",
       " 'transformer': 203,\n",
       " 'architecture': 204,\n",
       " 'landmark': 205,\n",
       " 'paper': 206,\n",
       " 'attention': 207,\n",
       " 'all': 208,\n",
       " 'you': 209,\n",
       " 'need': 210,\n",
       " 'goal': 211,\n",
       " 'improve': 212,\n",
       " 'upon': 213,\n",
       " '2014': 214,\n",
       " 'technology': 215,\n",
       " 'based': 216,\n",
       " 'mainly': 217,\n",
       " 'mechanism': 218,\n",
       " 'developed': 219,\n",
       " 'bahdanau': 220,\n",
       " 'et': 221,\n",
       " 'al': 222,\n",
       " '2014.': 223,\n",
       " 'year': 224,\n",
       " '2018': 225,\n",
       " 'bert': 226,\n",
       " 'quickly': 227,\n",
       " 'became': 228,\n",
       " 'ubiquitous': 229,\n",
       " 'though': 230,\n",
       " 'original': 231,\n",
       " 'has': 232,\n",
       " 'both': 233,\n",
       " 'encoder': 234,\n",
       " 'decoder': 235,\n",
       " 'blocks': 236,\n",
       " 'an': 237,\n",
       " 'encoder-only': 238,\n",
       " 'academic': 239,\n",
       " 'research': 240,\n",
       " 'usage': 241,\n",
       " 'decline': 242,\n",
       " '2023': 243,\n",
       " 'rapid': 244,\n",
       " 'improvements': 245,\n",
       " 'abilities': 246,\n",
       " 'decoder-only': 247,\n",
       " 'gpt': 248,\n",
       " 'solve': 249,\n",
       " 'via': 250,\n",
       " 'prompting': 251,\n",
       " 'history': 252,\n",
       " 'ai': 253,\n",
       " '2017–2024': 254,\n",
       " 'multimodal': 255,\n",
       " 'capacity': 256,\n",
       " 'illustration': 257,\n",
       " 'main': 258,\n",
       " 'components': 259,\n",
       " 'where': 260,\n",
       " 'layers': 261,\n",
       " 'normalized': 262,\n",
       " 'after': 263,\n",
       " 'instead': 264,\n",
       " 'multiheaded': 265,\n",
       " 'although': 266,\n",
       " 'gpt-1': 267,\n",
       " 'it': 268,\n",
       " 'gpt-2': 269,\n",
       " '2019': 270,\n",
       " 'that': 271,\n",
       " 'caught': 272,\n",
       " 'because': 273,\n",
       " 'openai': 274,\n",
       " 'claimed': 275,\n",
       " 'have': 276,\n",
       " 'initially': 277,\n",
       " 'deemed': 278,\n",
       " 'too': 279,\n",
       " 'powerful': 280,\n",
       " 'release': 281,\n",
       " 'publicly': 282,\n",
       " 'out': 283,\n",
       " 'fear': 284,\n",
       " 'malicious': 285,\n",
       " 'use': 286,\n",
       " 'gpt-3': 287,\n",
       " '2020': 288,\n",
       " 'went': 289,\n",
       " 'step': 290,\n",
       " 'further': 291,\n",
       " '2025': 292,\n",
       " 'available': 293,\n",
       " 'only': 294,\n",
       " 'api': 295,\n",
       " 'no': 296,\n",
       " 'offering': 297,\n",
       " 'downloading': 298,\n",
       " 'execute': 299,\n",
       " 'locally': 300,\n",
       " '2022': 301,\n",
       " 'consumer-facing': 302,\n",
       " 'chatbot': 303,\n",
       " 'received': 304,\n",
       " 'extensive': 305,\n",
       " 'media': 306,\n",
       " 'coverage': 307,\n",
       " 'public': 308,\n",
       " 'gpt-4': 309,\n",
       " 'praised': 310,\n",
       " 'increased': 311,\n",
       " 'accuracy': 312,\n",
       " 'holy': 313,\n",
       " 'grail': 314,\n",
       " 'capabilities': 315,\n",
       " 'did': 316,\n",
       " 'not': 317,\n",
       " 'reveal': 318,\n",
       " 'high-level': 319,\n",
       " 'number': 320,\n",
       " 'parameters': 321,\n",
       " 'led': 322,\n",
       " 'uptick': 323,\n",
       " 'across': 324,\n",
       " 'several': 325,\n",
       " 'subfields': 326,\n",
       " 'computer': 327,\n",
       " 'science': 328,\n",
       " 'including': 329,\n",
       " 'robotics': 330,\n",
       " 'software': 331,\n",
       " 'societal': 332,\n",
       " 'impact': 333,\n",
       " 'work': 334,\n",
       " '2024': 335,\n",
       " 'released': 336,\n",
       " 'reasoning': 337,\n",
       " 'o1': 338,\n",
       " 'generates': 339,\n",
       " 'long': 340,\n",
       " 'chains': 341,\n",
       " 'thought': 342,\n",
       " 'returning': 343,\n",
       " 'final': 344,\n",
       " 'answer': 345,\n",
       " 'many': 346,\n",
       " 'parameter': 347,\n",
       " 'counts': 348,\n",
       " 'comparable': 349,\n",
       " 'series': 350,\n",
       " 'been': 351,\n",
       " 'since': 352,\n",
       " 'source-available': 353,\n",
       " 'gaining': 354,\n",
       " 'popularity': 355,\n",
       " 'first': 356,\n",
       " 'bloom': 357,\n",
       " 'llama': 358,\n",
       " 'restrictions': 359,\n",
       " 'field': 360,\n",
       " 'mistral': 361,\n",
       " '7b': 362,\n",
       " 'mixtral': 363,\n",
       " '8x7b': 364,\n",
       " 'more': 365,\n",
       " 'permissive': 366,\n",
       " 'apache': 367,\n",
       " 'license': 368,\n",
       " 'january': 369,\n",
       " 'deepseek': 370,\n",
       " 'r1': 371,\n",
       " '671-billion-parameter': 372,\n",
       " 'open-weight': 373,\n",
       " 'performs': 374,\n",
       " 'comparably': 375,\n",
       " 'much': 376,\n",
       " 'lower': 377,\n",
       " 'cost': 378,\n",
       " 'having': 379,\n",
       " 'ability': 380,\n",
       " 'process': 381,\n",
       " 'generate': 382,\n",
       " 'other': 383,\n",
       " 'types': 384,\n",
       " 'images': 385,\n",
       " 'audio': 386,\n",
       " 'called': 387,\n",
       " 'lmms': 388,\n",
       " 'recent': 389,\n",
       " 'implementations': 390,\n",
       " 'network': 391,\n",
       " 'variants': 392,\n",
       " 'mamba': 393,\n",
       " 'state': 394,\n",
       " 'space': 395,\n",
       " 'dataset': 396,\n",
       " 'preprocessing': 397,\n",
       " 'tokenization': 398,\n",
       " 'algorithms': 399,\n",
       " 'numbers': 400,\n",
       " 'rather': 401,\n",
       " 'than': 402,\n",
       " 'must': 403,\n",
       " 'converted': 404,\n",
       " 'vocabulary': 405,\n",
       " 'decided': 406,\n",
       " 'then': 407,\n",
       " 'integer': 408,\n",
       " 'indices': 409,\n",
       " 'arbitrarily': 410,\n",
       " 'uniquely': 411,\n",
       " 'assigned': 412,\n",
       " 'each': 413,\n",
       " 'entry': 414,\n",
       " 'finally': 415,\n",
       " 'embedding': 416,\n",
       " 'associated': 417,\n",
       " 'index': 418,\n",
       " 'include': 419,\n",
       " 'byte-pair': 420,\n",
       " 'encoding': 421,\n",
       " 'bpe': 422,\n",
       " 'wordpiece': 423,\n",
       " 'there': 424,\n",
       " 'special': 425,\n",
       " 'tokens': 426,\n",
       " 'serving': 427,\n",
       " 'control': 428,\n",
       " 'characters': 429,\n",
       " 'unknown': 430,\n",
       " 'appearing': 431,\n",
       " 'symbols': 432,\n",
       " 'denote': 433,\n",
       " 'formatting': 434,\n",
       " 'example': 435,\n",
       " 'ġ': 436,\n",
       " 'denotes': 437,\n",
       " 'preceding': 438,\n",
       " 'whitespace': 439,\n",
       " 'roberta': 440,\n",
       " '#': 441,\n",
       " 'continuation': 442,\n",
       " 'tokenizer': 443,\n",
       " 'legacy': 444,\n",
       " 'would': 445,\n",
       " 'split': 446,\n",
       " ':': 447,\n",
       " 'texts': 448,\n",
       " '-': 449,\n",
       " '>': 450,\n",
       " 'numerical': 451,\n",
       " 'compresses': 452,\n",
       " 'generally': 453,\n",
       " 'require': 454,\n",
       " 'input': 455,\n",
       " 'array': 456,\n",
       " 'jagged': 457,\n",
       " 'shorter': 458,\n",
       " 'padded': 459,\n",
       " 'until': 460,\n",
       " 'match': 461,\n",
       " 'length': 462,\n",
       " 'longest': 463,\n",
       " 'one': 464,\n",
       " 'how': 465,\n",
       " 'average': 466,\n",
       " 'needed': 467,\n",
       " 'per': 468,\n",
       " 'depends': 469,\n",
       " 'consider': 470,\n",
       " 'unique': 471,\n",
       " 'blanks': 472,\n",
       " 'punctuation': 473,\n",
       " 'marks': 474,\n",
       " 'treated': 475,\n",
       " 'initial': 476,\n",
       " 'set': 477,\n",
       " 'n-grams': 478,\n",
       " 'i.e': 479,\n",
       " 'uni-grams': 480,\n",
       " 'successively': 481,\n",
       " 'frequent': 482,\n",
       " 'pair': 483,\n",
       " 'adjacent': 484,\n",
       " 'merged': 485,\n",
       " 'into': 486,\n",
       " 'bi-gram': 487,\n",
       " 'instances': 488,\n",
       " 'replaced': 489,\n",
       " 'occurrences': 490,\n",
       " 'pairs': 491,\n",
       " 'previously': 492,\n",
       " 'frequently': 493,\n",
       " 'occur': 494,\n",
       " 'together': 495,\n",
       " 'again': 496,\n",
       " 'even': 497,\n",
       " 'lengthier': 498,\n",
       " 'prescribed': 499,\n",
       " 'size': 500,\n",
       " 'obtained': 501,\n",
       " 'case': 502,\n",
       " '50257': 503,\n",
       " 'any': 504,\n",
       " 'tokenized': 505,\n",
       " 'does': 506,\n",
       " 'contain': 507,\n",
       " 'initial-set': 508,\n",
       " 'token': 509,\n",
       " 'frequencies': 510,\n",
       " 'extracted': 511,\n",
       " 'english': 512,\n",
       " 'uses': 513,\n",
       " 'few': 514,\n",
       " 'possible': 515,\n",
       " 'however': 516,\n",
       " 'another': 517,\n",
       " 'encoded': 518,\n",
       " 'english-optimized': 519,\n",
       " 'suboptimal': 520,\n",
       " 'up': 521,\n",
       " '15': 522,\n",
       " 'times': 523,\n",
       " 'languages': 524,\n",
       " 'shan': 525,\n",
       " 'myanmar': 526,\n",
       " 'portuguese': 527,\n",
       " 'german': 528,\n",
       " 'premium': 529,\n",
       " '50': 530,\n",
       " '%': 531,\n",
       " 'compared': 532,\n",
       " 'toenglish': 533,\n",
       " 'greedy': 534,\n",
       " 'causes': 535,\n",
       " 'subtle': 536,\n",
       " 'problems': 537,\n",
       " 'completion': 538,\n",
       " 'context': 539,\n",
       " 'typically': 540,\n",
       " 'cleaned': 541,\n",
       " 'removing': 542,\n",
       " 'low-quality': 543,\n",
       " 'duplicated': 544,\n",
       " 'oxic': 545,\n",
       " 'increase': 546,\n",
       " 'efficiency': 547,\n",
       " 'lead': 548,\n",
       " 'improved': 549,\n",
       " 'downstream': 550,\n",
       " 'performance': 551,\n",
       " 'clean': 552,\n",
       " 'increasing': 553,\n",
       " 'proportion': 554,\n",
       " 'llm-generated': 555,\n",
       " 'content': 556,\n",
       " 'cleaning': 557,\n",
       " 'future': 558,\n",
       " 'mayinclude': 559,\n",
       " 'filtering': 560,\n",
       " 'pose': 561,\n",
       " 'problem': 562,\n",
       " 'if': 563,\n",
       " 'making': 564,\n",
       " 'difficult': 565,\n",
       " 'quality': 566,\n",
       " 'degrading': 567,\n",
       " 'might': 568,\n",
       " 'linguistic': 569,\n",
       " 'naturally': 570,\n",
       " 'occurring': 571,\n",
       " 'insufficient': 572,\n",
       " 'cases': 573,\n",
       " 'synthetic': 574,\n",
       " 'microsoft': 575,\n",
       " 'phi': 576,\n",
       " 'textbook-like': 577,\n",
       " 'generated': 578,\n",
       " 'type': 579,\n",
       " 'foundation': 580,\n",
       " 'x': 581,\n",
       " 'different': 582,\n",
       " 'ways': 583,\n",
       " 'particular': 584,\n",
       " 'predict': 585,\n",
       " 'next': 586,\n",
       " 'being': 587,\n",
       " 'qualifier': 588,\n",
       " 'inherently': 589,\n",
       " 'vague': 590,\n",
       " 'definitive': 591,\n",
       " 'threshold': 592,\n",
       " 'required': 593,\n",
       " 'qualify': 594,\n",
       " 'goes': 595,\n",
       " 'what': 596,\n",
       " 'may': 597,\n",
       " 'evolve': 598,\n",
       " 'usually': 599,\n",
       " '117': 600,\n",
       " 'tendency': 601,\n",
       " 'towards': 602,\n",
       " 'larger': 603,\n",
       " 'visible': 604,\n",
       " 'list': 605,\n",
       " 'advanced': 606,\n",
       " 'sums': 607,\n",
       " 'invested': 608,\n",
       " 'increasingly': 609,\n",
       " 'substantial': 610,\n",
       " 'infrastructure': 611,\n",
       " 'necessary': 612,\n",
       " '1.5-billion-parameters': 613,\n",
       " '$': 614,\n",
       " '50,000': 615,\n",
       " 'while': 616,\n",
       " 'palm': 617,\n",
       " '540-billion-parameters': 618,\n",
       " '8': 619,\n",
       " 'megatron-turing': 620,\n",
       " 'nlg': 621,\n",
       " '530b': 622,\n",
       " '2021': 623,\n",
       " '11': 624,\n",
       " 'higher': 625,\n",
       " 'inference': 626,\n",
       " 'costs': 627,\n",
       " '6': 628,\n",
       " 'whereas': 629,\n",
       " '1': 630,\n",
       " '2': 631,\n",
       " 'infer': 632,\n",
       " 'next-token': 633,\n",
       " 'predictors': 634,\n",
       " 'fine-tuning': 635,\n",
       " 'make': 636,\n",
       " 'adopt': 637,\n",
       " 'conversational': 638,\n",
       " 'format': 639,\n",
       " 'play': 640,\n",
       " 'role': 641,\n",
       " 'assistant': 642,\n",
       " 'like': 643,\n",
       " 'reinforcement': 644,\n",
       " 'feedback': 645,\n",
       " 'rlhf': 646,\n",
       " 'constitutional': 647,\n",
       " 'instill': 648,\n",
       " 'preferences': 649,\n",
       " 'helpful': 650,\n",
       " 'honest': 651,\n",
       " 'harmless': 652,\n",
       " 'flan': 653,\n",
       " 'new': 654,\n",
       " 'follow': 655,\n",
       " 'wide': 656,\n",
       " 'range': 657,\n",
       " 'instructions': 658,\n",
       " 'could': 659,\n",
       " 'perform': 660,\n",
       " 'task': 661,\n",
       " 'given': 662,\n",
       " 'verbal': 663,\n",
       " 'instruction': 664,\n",
       " 'without': 665,\n",
       " 'needing': 666,\n",
       " 'examples': 667,\n",
       " 'demonstrated': 668,\n",
       " 'instructgpt': 669,\n",
       " 'version': 670,\n",
       " 'gpt-3.5': 671,\n",
       " 'similarly': 672,\n",
       " 'completing': 673,\n",
       " 'sentence': 674,\n",
       " 'e.g': 675,\n",
       " 'write': 676,\n",
       " 'essay': 677,\n",
       " 'about': 678,\n",
       " 'themes': 679,\n",
       " 'represented': 680,\n",
       " 'hamlet': 681,\n",
       " 'submit': 682,\n",
       " 'march': 683,\n",
       " '17': 684,\n",
       " 'your': 685,\n",
       " 'grade': 686,\n",
       " 'will': 687,\n",
       " 'reduced': 688,\n",
       " '10': 689,\n",
       " 'day': 690,\n",
       " 'delay': 691,\n",
       " 'frequency': 692,\n",
       " 'textual': 693,\n",
       " 'sequence': 694,\n",
       " 'instruction-': 695,\n",
       " 'preference': 696,\n",
       " 'actually': 697,\n",
       " 'act': 698,\n",
       " 'involves': 699,\n",
       " 'reward': 700,\n",
       " 'humans': 701,\n",
       " 'prefer': 702,\n",
       " 'finetuned': 703,\n",
       " 'through': 704,\n",
       " 'better': 705,\n",
       " 'satisfy': 706,\n",
       " 'truthful': 707,\n",
       " 'answers': 708,\n",
       " 'favors': 709,\n",
       " 'leverages': 710,\n",
       " 'enables': 711,\n",
       " 'relationships': 712,\n",
       " 'between': 713,\n",
       " 'elements': 714,\n",
       " 'simultaneously': 715,\n",
       " 'regardless': 716,\n",
       " 'distance': 717,\n",
       " 'order': 718,\n",
       " 'find': 719,\n",
       " 'relevant': 720,\n",
       " 'scope': 721,\n",
       " 'window': 722,\n",
       " 'calculates': 723,\n",
       " 'soft': 724,\n",
       " 'weights': 725,\n",
       " 'precisely': 726,\n",
       " 'multiple': 727,\n",
       " 'heads': 728,\n",
       " 'own': 729,\n",
       " 'relevance': 730,\n",
       " 'calculating': 731,\n",
       " 'small': 732,\n",
       " '117m': 733,\n",
       " 'sized': 734,\n",
       " 'had': 735,\n",
       " 'twelve': 736,\n",
       " '1k': 737,\n",
       " 'medium': 738,\n",
       " '345m': 739,\n",
       " 'contains': 740,\n",
       " '24': 741,\n",
       " '12': 742,\n",
       " 'gradient': 743,\n",
       " 'descent': 744,\n",
       " 'batch': 745,\n",
       " '512': 746,\n",
       " 'utilized': 747,\n",
       " '1.5': 748,\n",
       " 'presented': 749,\n",
       " 'february': 750,\n",
       " 'successfully': 751,\n",
       " 'tested': 752,\n",
       " 'windows': 753,\n",
       " 'includes': 754,\n",
       " 'anthropic': 755,\n",
       " '2.1': 756,\n",
       " '200k': 757,\n",
       " 'note': 758,\n",
       " 'maximum': 759,\n",
       " 'refers': 760,\n",
       " 'output': 761,\n",
       " 'differs': 762,\n",
       " 'often': 763,\n",
       " 'smaller': 764,\n",
       " 'turbo': 765,\n",
       " '4096': 766,\n",
       " 'conversation': 767,\n",
       " 'take': 768,\n",
       " 'account': 769,\n",
       " 'when': 770,\n",
       " 'generating': 771,\n",
       " 'limited': 772,\n",
       " 'well': 773,\n",
       " 'longer': 774,\n",
       " 'parts': 775,\n",
       " 'inside': 776,\n",
       " 'taken': 777,\n",
       " 'needs': 778,\n",
       " 'apply': 779,\n",
       " 'algorithm': 780,\n",
       " 'summarize': 781,\n",
       " 'distant': 782,\n",
       " 'shortcomings': 783,\n",
       " 'possibly': 784,\n",
       " 'diluting': 785,\n",
       " 'focus': 786,\n",
       " 'local': 787,\n",
       " 'cause': 788,\n",
       " 'miss': 789,\n",
       " 'important': 790,\n",
       " 'long-': 791,\n",
       " 'dependency': 792,\n",
       " 'balancing': 793,\n",
       " 'them': 794,\n",
       " 'matter': 795,\n",
       " 'experimentation': 796,\n",
       " 'domain-specific': 797,\n",
       " 'considerations': 798,\n",
       " 'head': 799,\n",
       " 'according': 800,\n",
       " 'criteria': 801,\n",
       " 'it_': 802,\n",
       " 'second': 803,\n",
       " 'column': 804,\n",
       " 'focusing': 805,\n",
       " 'two': 806,\n",
       " 'rows': 807,\n",
       " 'animal': 808,\n",
       " 'third': 809,\n",
       " 'tired': 810,\n",
       " 'pre-trained': 811,\n",
       " 'either': 812,\n",
       " 'segment': 813,\n",
       " 'continues': 814,\n",
       " 'missing': 815,\n",
       " 'autoregressive': 816,\n",
       " 'predicting': 817,\n",
       " 'do': 818,\n",
       " 'i': 819,\n",
       " 'eat': 820,\n",
       " 'predicts': 821,\n",
       " 'ice': 822,\n",
       " 'cream': 823,\n",
       " 'sushi': 824,\n",
       " 'masked': 825,\n",
       " 'filling': 826,\n",
       " 'way': 827,\n",
       " 'auxiliary': 828,\n",
       " 'test': 829,\n",
       " 'understanding': 830,\n",
       " 'distribution': 831,\n",
       " 'prediction': 832,\n",
       " 'nsp': 833,\n",
       " 'sentences': 834,\n",
       " 'whether': 835,\n",
       " 'appear': 836,\n",
       " 'consecutively': 837,\n",
       " 'regularization': 838,\n",
       " 'loss': 839,\n",
       " 'stabilize': 840,\n",
       " 'testing': 841,\n",
       " 'evaluation': 842,\n",
       " 'mixture': 843,\n",
       " 'experts': 844,\n",
       " 'moe': 845,\n",
       " 'specialized': 846,\n",
       " 'gating': 847,\n",
       " 'routes': 848,\n",
       " 'appropriate': 849,\n",
       " 'expert': 850,\n",
       " 's': 851,\n",
       " 'mixtures': 852,\n",
       " 'reduce': 853,\n",
       " 'fraction': 854,\n",
       " 'approach': 855,\n",
       " 'single-': 856,\n",
       " 'half-precision': 857,\n",
       " 'floating': 858,\n",
       " 'point': 859,\n",
       " 'float32': 860,\n",
       " 'float16': 861,\n",
       " '16': 862,\n",
       " 'bits': 863,\n",
       " 'bytes': 864,\n",
       " 'so': 865,\n",
       " 'billion': 866,\n",
       " 'gigabytes': 867,\n",
       " '100': 868,\n",
       " 'requiring': 869,\n",
       " '200': 870,\n",
       " 'load': 871,\n",
       " 'places': 872,\n",
       " 'outside': 873,\n",
       " 'consumer': 874,\n",
       " 'electronics': 875,\n",
       " 'post-training': 876,\n",
       " 'quantization': 877,\n",
       " 'aims': 878,\n",
       " 'decrease': 879,\n",
       " 'requirement': 880,\n",
       " 'lowering': 881,\n",
       " 'precision': 882,\n",
       " 'preserving': 883,\n",
       " 'classified': 884,\n",
       " 'static': 885,\n",
       " 'determined': 886,\n",
       " 'beforehand': 887,\n",
       " 'calibration': 888,\n",
       " 'phase': 889,\n",
       " 'dynamic': 890,\n",
       " 'applied': 891,\n",
       " 'simplest': 892,\n",
       " 'form': 893,\n",
       " 'simply': 894,\n",
       " 'truncates': 895,\n",
       " 'applicable': 896,\n",
       " 'loses': 897,\n",
       " 'allows': 898,\n",
       " 'codebook': 899,\n",
       " 'layer': 900,\n",
       " 'lookup': 901,\n",
       " 'table': 902,\n",
       " 'values': 903,\n",
       " 'linear': 904,\n",
       " 'mapping': 905,\n",
       " 'scaling': 906,\n",
       " 'factor': 907,\n",
       " 'bias': 908,\n",
       " 'foregoing': 909,\n",
       " 'speed': 910,\n",
       " 'lower-precision': 911,\n",
       " 'arithmetic': 912,\n",
       " 'quantized': 913,\n",
       " 'seen': 914,\n",
       " 'frozen': 915,\n",
       " 'modification': 916,\n",
       " 'still': 917,\n",
       " 'fine-tune': 918,\n",
       " 'low-rank': 919,\n",
       " 'adaptation': 920,\n",
       " 'furthermore': 921,\n",
       " 'methods': 922,\n",
       " 'training-like': 923,\n",
       " 'quantization-aware': 924,\n",
       " 'qat': 925,\n",
       " 'adds': 926,\n",
       " 'representation': 927,\n",
       " 'parent': 928,\n",
       " 'ordinary': 929,\n",
       " 'backpropagation': 930,\n",
       " 'expensive': 931,\n",
       " 'effective': 932,\n",
       " 'gptq': 933,\n",
       " 'minimizes': 934,\n",
       " 'squared': 935,\n",
       " 'error': 936,\n",
       " 'choice': 937,\n",
       " 'activation-aware': 938,\n",
       " 'awq': 939,\n",
       " 'keeps': 940,\n",
       " 'fp16': 941,\n",
       " 'sparse-quantized': 942,\n",
       " 'spqr': 943,\n",
       " 'particularly': 944,\n",
       " 'outlier': 945,\n",
       " 'unsloth': 946,\n",
       " 'method': 947,\n",
       " 'confused': 948,\n",
       " 'above': 949,\n",
       " 'selects': 950,\n",
       " 'keeping': 951,\n",
       " 'higher-precision': 952,\n",
       " 'distilled': 953,\n",
       " 'weight': 954,\n",
       " 'dwq': 955,\n",
       " 'apple': 956,\n",
       " 'distillation': 957,\n",
       " 'good': 958,\n",
       " 'factors': 959,\n",
       " 'beyond': 960,\n",
       " 'basic': 961,\n",
       " 'various': 962,\n",
       " 'extend': 963,\n",
       " 'external': 964,\n",
       " 'tools': 965,\n",
       " 'sources': 966,\n",
       " 'complex': 967,\n",
       " 'enhanced': 968,\n",
       " 'instruction-following': 969,\n",
       " 'autonomy': 970,\n",
       " 'understand': 971,\n",
       " 'rounds': 972,\n",
       " 'q': 973,\n",
       " 'thanks': 974,\n",
       " 'part': 975,\n",
       " 'due': 976,\n",
       " 'technique': 977,\n",
       " 'few-shot': 978,\n",
       " 'found': 979,\n",
       " 'base': 980,\n",
       " 'user': 981,\n",
       " 'along': 982,\n",
       " 'instance': 983,\n",
       " 'under': 984,\n",
       " '[': 985,\n",
       " '...': 986,\n",
       " ']': 987,\n",
       " 'able': 988,\n",
       " 'complete': 989,\n",
       " 'produces': 990,\n",
       " 'correct': 991,\n",
       " 'doing': 992,\n",
       " 'self-': 993,\n",
       " 'instruct': 994,\n",
       " 'makes': 995,\n",
       " 'bootstrap': 996,\n",
       " 'themselves': 997,\n",
       " 'toward': 998,\n",
       " 'turned': 999,\n",
       " ...}"
      ]
     },
     "execution_count": 6,
     "metadata": {},
     "output_type": "execute_result"
    }
   ],
   "source": [
    "# build vocab\n",
    "vocab = {'<unk>':0}\n",
    "\n",
    "for token in Counter(tokens).keys():\n",
    "  if token not in vocab:\n",
    "    vocab[token] = len(vocab)\n",
    "\n",
    "vocab"
   ]
  },
  {
   "cell_type": "code",
   "execution_count": 7,
   "id": "9b5e954a",
   "metadata": {},
   "outputs": [
    {
     "data": {
      "text/plain": [
       "2220"
      ]
     },
     "execution_count": 7,
     "metadata": {},
     "output_type": "execute_result"
    }
   ],
   "source": [
    "len(vocab)"
   ]
  },
  {
   "cell_type": "code",
   "execution_count": 8,
   "id": "0400be76",
   "metadata": {},
   "outputs": [],
   "source": [
    "input_sentences = TEXT.split('\\n')"
   ]
  },
  {
   "cell_type": "code",
   "execution_count": 9,
   "id": "a4e357fe",
   "metadata": {},
   "outputs": [],
   "source": [
    "def text_to_indices(sentence, vocab):\n",
    "\n",
    "  numerical_sentence = []\n",
    "\n",
    "  for token in sentence:\n",
    "    if token in vocab:\n",
    "      numerical_sentence.append(vocab[token])\n",
    "    else:\n",
    "      numerical_sentence.append(vocab['<unk>'])\n",
    "\n",
    "  return numerical_sentence\n"
   ]
  },
  {
   "cell_type": "code",
   "execution_count": 10,
   "id": "07e8b989",
   "metadata": {},
   "outputs": [],
   "source": [
    "input_numerical_sentences = []\n",
    "\n",
    "for sentence in input_sentences:\n",
    "  input_numerical_sentences.append(text_to_indices(word_tokenize(sentence.lower()), vocab))\n"
   ]
  },
  {
   "cell_type": "code",
   "execution_count": 11,
   "id": "5ef24ef0",
   "metadata": {},
   "outputs": [
    {
     "data": {
      "text/plain": [
       "[[],\n",
       " [1, 2, 3, 4, 5, 6, 7, 8, 9, 10, 11, 12, 13, 1, 14, 15, 16],\n",
       " [17,\n",
       "  18,\n",
       "  5,\n",
       "  7,\n",
       "  19,\n",
       "  20,\n",
       "  21,\n",
       "  22,\n",
       "  23,\n",
       "  24,\n",
       "  7,\n",
       "  19,\n",
       "  20,\n",
       "  25,\n",
       "  22,\n",
       "  23,\n",
       "  20,\n",
       "  26,\n",
       "  7,\n",
       "  19,\n",
       "  27,\n",
       "  21,\n",
       "  22,\n",
       "  28,\n",
       "  20,\n",
       "  7,\n",
       "  29,\n",
       "  30]]"
      ]
     },
     "execution_count": 11,
     "metadata": {},
     "output_type": "execute_result"
    }
   ],
   "source": [
    "input_numerical_sentences[0:3]"
   ]
  },
  {
   "cell_type": "code",
   "execution_count": 12,
   "id": "a7792824",
   "metadata": {},
   "outputs": [
    {
     "data": {
      "text/plain": [
       "75"
      ]
     },
     "execution_count": 12,
     "metadata": {},
     "output_type": "execute_result"
    }
   ],
   "source": [
    "max_len = max(len(seq) for seq in input_numerical_sentences)\n",
    "max_len"
   ]
  },
  {
   "cell_type": "code",
   "execution_count": 13,
   "id": "df57c293",
   "metadata": {},
   "outputs": [],
   "source": [
    "def create_next_word_dataset(seq):\n",
    "    data = []\n",
    "    for i in range(1, len(seq)):\n",
    "        t = [0] * (max_len - len(seq[:i])) + seq[:i]\n",
    "        data.append((t, seq[i]))\n",
    "    return data"
   ]
  },
  {
   "cell_type": "code",
   "execution_count": 14,
   "id": "be74e310",
   "metadata": {},
   "outputs": [],
   "source": [
    "raw_dataset = []\n",
    "for line in input_numerical_sentences:\n",
    "    raw_dataset.extend(create_next_word_dataset(line))\n",
    "    \n",
    "                       "
   ]
  },
  {
   "cell_type": "code",
   "execution_count": 15,
   "id": "f8f95d59",
   "metadata": {},
   "outputs": [
    {
     "data": {
      "text/plain": [
       "[([0,\n",
       "   0,\n",
       "   0,\n",
       "   0,\n",
       "   0,\n",
       "   0,\n",
       "   0,\n",
       "   0,\n",
       "   0,\n",
       "   0,\n",
       "   0,\n",
       "   0,\n",
       "   0,\n",
       "   0,\n",
       "   0,\n",
       "   0,\n",
       "   0,\n",
       "   0,\n",
       "   0,\n",
       "   0,\n",
       "   0,\n",
       "   0,\n",
       "   0,\n",
       "   0,\n",
       "   0,\n",
       "   0,\n",
       "   0,\n",
       "   0,\n",
       "   0,\n",
       "   0,\n",
       "   0,\n",
       "   0,\n",
       "   0,\n",
       "   0,\n",
       "   0,\n",
       "   0,\n",
       "   0,\n",
       "   0,\n",
       "   0,\n",
       "   0,\n",
       "   0,\n",
       "   0,\n",
       "   0,\n",
       "   0,\n",
       "   0,\n",
       "   0,\n",
       "   0,\n",
       "   0,\n",
       "   0,\n",
       "   0,\n",
       "   0,\n",
       "   0,\n",
       "   0,\n",
       "   0,\n",
       "   0,\n",
       "   0,\n",
       "   0,\n",
       "   0,\n",
       "   0,\n",
       "   0,\n",
       "   0,\n",
       "   0,\n",
       "   0,\n",
       "   0,\n",
       "   0,\n",
       "   0,\n",
       "   0,\n",
       "   0,\n",
       "   0,\n",
       "   0,\n",
       "   0,\n",
       "   0,\n",
       "   0,\n",
       "   0,\n",
       "   1],\n",
       "  2)]"
      ]
     },
     "execution_count": 15,
     "metadata": {},
     "output_type": "execute_result"
    }
   ],
   "source": [
    "raw_dataset[0:1]"
   ]
  },
  {
   "cell_type": "code",
   "execution_count": 16,
   "id": "e222509f",
   "metadata": {},
   "outputs": [],
   "source": [
    "class NumericDataset(torch.utils.data.Dataset):\n",
    "    def __init__(self, sequences):\n",
    "        self.sequences = sequences     \n",
    "\n",
    "    def __getitem__(self, idx):\n",
    "        # --- convert to LongTensor here ---\n",
    "        x = torch.tensor(self.sequences[idx][0], dtype=torch.long)\n",
    "        y = torch.tensor(self.sequences[idx][1],  dtype=torch.long)  # CE loss expects long\n",
    "        return x, y\n",
    "\n",
    "    def __len__(self):\n",
    "        return len(self.sequences)\n"
   ]
  },
  {
   "cell_type": "code",
   "execution_count": 17,
   "id": "bdf3a9b7",
   "metadata": {},
   "outputs": [],
   "source": [
    "ds = NumericDataset(raw_dataset)\n",
    "train_loader = DataLoader(ds, batch_size=32, shuffle=True) \n",
    "val_loader = DataLoader(NumericDataset(raw_dataset[0: int(len(raw_dataset) * .2)]), batch_size=32, shuffle=True) "
   ]
  },
  {
   "cell_type": "code",
   "execution_count": 18,
   "id": "2e231d4a",
   "metadata": {},
   "outputs": [],
   "source": [
    "class LitNextWord(pl.LightningModule):\n",
    "    def __init__(self, vocab_size, emb_dim=100, hid_dim=150):\n",
    "        super().__init__()\n",
    "        self.save_hyperparameters()\n",
    "        # self.embedding = nn.Embedding(vocab_size, emb_dim, padding_idx=pad_idx)\n",
    "        # self.lstm      = nn.LSTM(emb_dim, hid_dim, num_layers= 2, dropout=0.01, batch_first=True)\n",
    "        # self.fc        = nn.Linear(hid_dim, vocab_size)\n",
    "        self.embedding = nn.Embedding(vocab_size, 100)\n",
    "        self.lstm = nn.LSTM(emb_dim, hid_dim, batch_first=True)\n",
    "        self.fc = nn.Linear(hid_dim, vocab_size)\n",
    "        self.criterion = nn.CrossEntropyLoss()\n",
    "\n",
    "    def forward(self, x):\n",
    "        emb      = self.embedding(x)\n",
    "        out, _       = self.lstm(emb)\n",
    "        last_hidden = out[:, -1, :]                   # Use final timestep\n",
    "        return self.fc(last_hidden)\n",
    "\n",
    "    def training_step(self, batch, batch_idx):\n",
    "        x, y = batch\n",
    "        logits = self(x)\n",
    "        loss = self.criterion(logits, y)\n",
    "        self.log('train_loss', loss, prog_bar=True)\n",
    "        return loss\n",
    "\n",
    "    def validation_step(self, batch, batch_idx):\n",
    "        x, y = batch\n",
    "        logits = self(x)\n",
    "        loss = self.criterion(logits, y)\n",
    "        self.log('val_loss', loss, prog_bar=True)\n",
    "        return loss\n",
    "\n",
    "    def configure_optimizers(self):\n",
    "        return torch.optim.Adam(self.parameters(), lr=1e-3)"
   ]
  },
  {
   "cell_type": "code",
   "execution_count": 19,
   "id": "72a2b3ba",
   "metadata": {},
   "outputs": [
    {
     "name": "stderr",
     "output_type": "stream",
     "text": [
      "💡 Tip: For seamless cloud uploads and versioning, try installing [litmodels](https://pypi.org/project/litmodels/) to enable LitModelCheckpoint, which syncs automatically with the Lightning model registry.\n",
      "GPU available: True (cuda), used: True\n",
      "TPU available: False, using: 0 TPU cores\n",
      "HPU available: False, using: 0 HPUs\n",
      "d:\\Work\\miniconda_env\\hf-pytorch\\lib\\site-packages\\pytorch_lightning\\trainer\\connectors\\logger_connector\\logger_connector.py:76: Starting from v1.9.0, `tensorboardX` has been removed as a dependency of the `pytorch_lightning` package, due to potential conflicts with other packages in the ML ecosystem. For this reason, `logger=True` will use `CSVLogger` as the default logger, unless the `tensorboard` or `tensorboardX` packages are found. Please `pip install lightning[extra]` or one of them to enable TensorBoard support by default\n"
     ]
    }
   ],
   "source": [
    "model = LitNextWord(vocab_size=len(vocab)).to(device=device)\n",
    "early_stop = EarlyStopping(monitor='val_loss', patience=8, mode='min', min_delta=0.0001)\n",
    "\n",
    "trainer = pl.Trainer(\n",
    "    max_epochs=500,\n",
    "    callbacks=[early_stop],\n",
    "    log_every_n_steps=10,\n",
    ")"
   ]
  },
  {
   "cell_type": "code",
   "execution_count": 20,
   "id": "2ba7183f",
   "metadata": {},
   "outputs": [
    {
     "name": "stderr",
     "output_type": "stream",
     "text": [
      "LOCAL_RANK: 0 - CUDA_VISIBLE_DEVICES: [0]\n",
      "\n",
      "  | Name      | Type             | Params | Mode \n",
      "-------------------------------------------------------\n",
      "0 | embedding | Embedding        | 222 K  | train\n",
      "1 | lstm      | LSTM             | 151 K  | train\n",
      "2 | fc        | Linear           | 335 K  | train\n",
      "3 | criterion | CrossEntropyLoss | 0      | train\n",
      "-------------------------------------------------------\n",
      "708 K     Trainable params\n",
      "0         Non-trainable params\n",
      "708 K     Total params\n",
      "2.834     Total estimated model params size (MB)\n",
      "4         Modules in train mode\n",
      "0         Modules in eval mode\n"
     ]
    },
    {
     "data": {
      "application/vnd.jupyter.widget-view+json": {
       "model_id": "84385a3967214a859cc7d0aabdf76533",
       "version_major": 2,
       "version_minor": 0
      },
      "text/plain": [
       "Sanity Checking: |          | 0/? [00:00<?, ?it/s]"
      ]
     },
     "metadata": {},
     "output_type": "display_data"
    },
    {
     "name": "stderr",
     "output_type": "stream",
     "text": [
      "d:\\Work\\miniconda_env\\hf-pytorch\\lib\\site-packages\\pytorch_lightning\\trainer\\connectors\\data_connector.py:476: Your `val_dataloader`'s sampler has shuffling enabled, it is strongly recommended that you turn shuffling off for val/test dataloaders.\n",
      "d:\\Work\\miniconda_env\\hf-pytorch\\lib\\site-packages\\pytorch_lightning\\trainer\\connectors\\data_connector.py:425: The 'val_dataloader' does not have many workers which may be a bottleneck. Consider increasing the value of the `num_workers` argument` to `num_workers=11` in the `DataLoader` to improve performance.\n",
      "d:\\Work\\miniconda_env\\hf-pytorch\\lib\\site-packages\\pytorch_lightning\\trainer\\connectors\\data_connector.py:425: The 'train_dataloader' does not have many workers which may be a bottleneck. Consider increasing the value of the `num_workers` argument` to `num_workers=11` in the `DataLoader` to improve performance.\n"
     ]
    },
    {
     "data": {
      "application/vnd.jupyter.widget-view+json": {
       "model_id": "f4e27ca4e6a44cc08c94809597d1eaae",
       "version_major": 2,
       "version_minor": 0
      },
      "text/plain": [
       "Training: |          | 0/? [00:00<?, ?it/s]"
      ]
     },
     "metadata": {},
     "output_type": "display_data"
    },
    {
     "data": {
      "application/vnd.jupyter.widget-view+json": {
       "model_id": "9fbeaece1e1049f992e0047c2131a370",
       "version_major": 2,
       "version_minor": 0
      },
      "text/plain": [
       "Validation: |          | 0/? [00:00<?, ?it/s]"
      ]
     },
     "metadata": {},
     "output_type": "display_data"
    },
    {
     "data": {
      "application/vnd.jupyter.widget-view+json": {
       "model_id": "ad074cd905424c939d8ffa1a934f9740",
       "version_major": 2,
       "version_minor": 0
      },
      "text/plain": [
       "Validation: |          | 0/? [00:00<?, ?it/s]"
      ]
     },
     "metadata": {},
     "output_type": "display_data"
    },
    {
     "data": {
      "application/vnd.jupyter.widget-view+json": {
       "model_id": "66aa404c9f214f3aa597c17f4a65c13d",
       "version_major": 2,
       "version_minor": 0
      },
      "text/plain": [
       "Validation: |          | 0/? [00:00<?, ?it/s]"
      ]
     },
     "metadata": {},
     "output_type": "display_data"
    },
    {
     "data": {
      "application/vnd.jupyter.widget-view+json": {
       "model_id": "52f22b45a8d74a0aa93344d48693af14",
       "version_major": 2,
       "version_minor": 0
      },
      "text/plain": [
       "Validation: |          | 0/? [00:00<?, ?it/s]"
      ]
     },
     "metadata": {},
     "output_type": "display_data"
    },
    {
     "data": {
      "application/vnd.jupyter.widget-view+json": {
       "model_id": "698d6c3bfd854a5db8df656f49467869",
       "version_major": 2,
       "version_minor": 0
      },
      "text/plain": [
       "Validation: |          | 0/? [00:00<?, ?it/s]"
      ]
     },
     "metadata": {},
     "output_type": "display_data"
    },
    {
     "data": {
      "application/vnd.jupyter.widget-view+json": {
       "model_id": "0af99095a6ac42ca9b63eb5d08f17ab4",
       "version_major": 2,
       "version_minor": 0
      },
      "text/plain": [
       "Validation: |          | 0/? [00:00<?, ?it/s]"
      ]
     },
     "metadata": {},
     "output_type": "display_data"
    },
    {
     "data": {
      "application/vnd.jupyter.widget-view+json": {
       "model_id": "709b4c0282154dd8a41a20021483d0a2",
       "version_major": 2,
       "version_minor": 0
      },
      "text/plain": [
       "Validation: |          | 0/? [00:00<?, ?it/s]"
      ]
     },
     "metadata": {},
     "output_type": "display_data"
    },
    {
     "data": {
      "application/vnd.jupyter.widget-view+json": {
       "model_id": "8434de0d158f448fa1ea1ec3af251864",
       "version_major": 2,
       "version_minor": 0
      },
      "text/plain": [
       "Validation: |          | 0/? [00:00<?, ?it/s]"
      ]
     },
     "metadata": {},
     "output_type": "display_data"
    },
    {
     "data": {
      "application/vnd.jupyter.widget-view+json": {
       "model_id": "7222a85ca0494f9587cc95807447f534",
       "version_major": 2,
       "version_minor": 0
      },
      "text/plain": [
       "Validation: |          | 0/? [00:00<?, ?it/s]"
      ]
     },
     "metadata": {},
     "output_type": "display_data"
    },
    {
     "data": {
      "application/vnd.jupyter.widget-view+json": {
       "model_id": "87e19efde1234affb71d7c32ec9d9229",
       "version_major": 2,
       "version_minor": 0
      },
      "text/plain": [
       "Validation: |          | 0/? [00:00<?, ?it/s]"
      ]
     },
     "metadata": {},
     "output_type": "display_data"
    },
    {
     "data": {
      "application/vnd.jupyter.widget-view+json": {
       "model_id": "eff055346d544c8680e8c5a9076b2784",
       "version_major": 2,
       "version_minor": 0
      },
      "text/plain": [
       "Validation: |          | 0/? [00:00<?, ?it/s]"
      ]
     },
     "metadata": {},
     "output_type": "display_data"
    },
    {
     "data": {
      "application/vnd.jupyter.widget-view+json": {
       "model_id": "7fa87dda1629488f8aba8203ba1e3928",
       "version_major": 2,
       "version_minor": 0
      },
      "text/plain": [
       "Validation: |          | 0/? [00:00<?, ?it/s]"
      ]
     },
     "metadata": {},
     "output_type": "display_data"
    },
    {
     "data": {
      "application/vnd.jupyter.widget-view+json": {
       "model_id": "8faafc7fb7ac46f8b7777052e5a6b924",
       "version_major": 2,
       "version_minor": 0
      },
      "text/plain": [
       "Validation: |          | 0/? [00:00<?, ?it/s]"
      ]
     },
     "metadata": {},
     "output_type": "display_data"
    },
    {
     "data": {
      "application/vnd.jupyter.widget-view+json": {
       "model_id": "7285822b043d4b23a3ca532f04c8b4d1",
       "version_major": 2,
       "version_minor": 0
      },
      "text/plain": [
       "Validation: |          | 0/? [00:00<?, ?it/s]"
      ]
     },
     "metadata": {},
     "output_type": "display_data"
    },
    {
     "data": {
      "application/vnd.jupyter.widget-view+json": {
       "model_id": "ab760cd87e834bf0866463d093ed25d8",
       "version_major": 2,
       "version_minor": 0
      },
      "text/plain": [
       "Validation: |          | 0/? [00:00<?, ?it/s]"
      ]
     },
     "metadata": {},
     "output_type": "display_data"
    },
    {
     "data": {
      "application/vnd.jupyter.widget-view+json": {
       "model_id": "e62a2701c2e648049f733f4e791a3ed1",
       "version_major": 2,
       "version_minor": 0
      },
      "text/plain": [
       "Validation: |          | 0/? [00:00<?, ?it/s]"
      ]
     },
     "metadata": {},
     "output_type": "display_data"
    },
    {
     "data": {
      "application/vnd.jupyter.widget-view+json": {
       "model_id": "d38bbc39148f4b4f825d689cd6710d8c",
       "version_major": 2,
       "version_minor": 0
      },
      "text/plain": [
       "Validation: |          | 0/? [00:00<?, ?it/s]"
      ]
     },
     "metadata": {},
     "output_type": "display_data"
    },
    {
     "data": {
      "application/vnd.jupyter.widget-view+json": {
       "model_id": "1dab832f82cf4df7ade599b9548b22e7",
       "version_major": 2,
       "version_minor": 0
      },
      "text/plain": [
       "Validation: |          | 0/? [00:00<?, ?it/s]"
      ]
     },
     "metadata": {},
     "output_type": "display_data"
    },
    {
     "data": {
      "application/vnd.jupyter.widget-view+json": {
       "model_id": "daca71bf13eb457fbd3b8682ea52f151",
       "version_major": 2,
       "version_minor": 0
      },
      "text/plain": [
       "Validation: |          | 0/? [00:00<?, ?it/s]"
      ]
     },
     "metadata": {},
     "output_type": "display_data"
    },
    {
     "data": {
      "application/vnd.jupyter.widget-view+json": {
       "model_id": "17cae510c7ee4c3d948fcb2cda4ea8b6",
       "version_major": 2,
       "version_minor": 0
      },
      "text/plain": [
       "Validation: |          | 0/? [00:00<?, ?it/s]"
      ]
     },
     "metadata": {},
     "output_type": "display_data"
    },
    {
     "data": {
      "application/vnd.jupyter.widget-view+json": {
       "model_id": "a8eb75dfa871485a9a0f2728917a186b",
       "version_major": 2,
       "version_minor": 0
      },
      "text/plain": [
       "Validation: |          | 0/? [00:00<?, ?it/s]"
      ]
     },
     "metadata": {},
     "output_type": "display_data"
    },
    {
     "data": {
      "application/vnd.jupyter.widget-view+json": {
       "model_id": "2fbbd33766cb486692ed68651ab3a0f3",
       "version_major": 2,
       "version_minor": 0
      },
      "text/plain": [
       "Validation: |          | 0/? [00:00<?, ?it/s]"
      ]
     },
     "metadata": {},
     "output_type": "display_data"
    },
    {
     "data": {
      "application/vnd.jupyter.widget-view+json": {
       "model_id": "4f60c5228e014da5a5882b0bac68196a",
       "version_major": 2,
       "version_minor": 0
      },
      "text/plain": [
       "Validation: |          | 0/? [00:00<?, ?it/s]"
      ]
     },
     "metadata": {},
     "output_type": "display_data"
    },
    {
     "data": {
      "application/vnd.jupyter.widget-view+json": {
       "model_id": "3dba21f5e1b64b60b94051a66dcd8476",
       "version_major": 2,
       "version_minor": 0
      },
      "text/plain": [
       "Validation: |          | 0/? [00:00<?, ?it/s]"
      ]
     },
     "metadata": {},
     "output_type": "display_data"
    },
    {
     "data": {
      "application/vnd.jupyter.widget-view+json": {
       "model_id": "e177fc7723e74534b3afce18480ff1ba",
       "version_major": 2,
       "version_minor": 0
      },
      "text/plain": [
       "Validation: |          | 0/? [00:00<?, ?it/s]"
      ]
     },
     "metadata": {},
     "output_type": "display_data"
    },
    {
     "data": {
      "application/vnd.jupyter.widget-view+json": {
       "model_id": "da185278bb0b48fea6daabe9721fbd65",
       "version_major": 2,
       "version_minor": 0
      },
      "text/plain": [
       "Validation: |          | 0/? [00:00<?, ?it/s]"
      ]
     },
     "metadata": {},
     "output_type": "display_data"
    },
    {
     "data": {
      "application/vnd.jupyter.widget-view+json": {
       "model_id": "d136208ad88445b78595be4f2c795740",
       "version_major": 2,
       "version_minor": 0
      },
      "text/plain": [
       "Validation: |          | 0/? [00:00<?, ?it/s]"
      ]
     },
     "metadata": {},
     "output_type": "display_data"
    },
    {
     "data": {
      "application/vnd.jupyter.widget-view+json": {
       "model_id": "93b3df7600a84dc3b6b1624f446ccbfe",
       "version_major": 2,
       "version_minor": 0
      },
      "text/plain": [
       "Validation: |          | 0/? [00:00<?, ?it/s]"
      ]
     },
     "metadata": {},
     "output_type": "display_data"
    },
    {
     "data": {
      "application/vnd.jupyter.widget-view+json": {
       "model_id": "003285e1fc044016a2094dfc86bae932",
       "version_major": 2,
       "version_minor": 0
      },
      "text/plain": [
       "Validation: |          | 0/? [00:00<?, ?it/s]"
      ]
     },
     "metadata": {},
     "output_type": "display_data"
    },
    {
     "data": {
      "application/vnd.jupyter.widget-view+json": {
       "model_id": "8a98e82c08c54544b681a0efefee4a6c",
       "version_major": 2,
       "version_minor": 0
      },
      "text/plain": [
       "Validation: |          | 0/? [00:00<?, ?it/s]"
      ]
     },
     "metadata": {},
     "output_type": "display_data"
    },
    {
     "data": {
      "application/vnd.jupyter.widget-view+json": {
       "model_id": "fb03b4b26c32460597b664389bb7aacd",
       "version_major": 2,
       "version_minor": 0
      },
      "text/plain": [
       "Validation: |          | 0/? [00:00<?, ?it/s]"
      ]
     },
     "metadata": {},
     "output_type": "display_data"
    },
    {
     "data": {
      "application/vnd.jupyter.widget-view+json": {
       "model_id": "90a98eb736604bf397223e066a3374c7",
       "version_major": 2,
       "version_minor": 0
      },
      "text/plain": [
       "Validation: |          | 0/? [00:00<?, ?it/s]"
      ]
     },
     "metadata": {},
     "output_type": "display_data"
    },
    {
     "data": {
      "application/vnd.jupyter.widget-view+json": {
       "model_id": "9719ac687131495296c1e9815e0c2dd1",
       "version_major": 2,
       "version_minor": 0
      },
      "text/plain": [
       "Validation: |          | 0/? [00:00<?, ?it/s]"
      ]
     },
     "metadata": {},
     "output_type": "display_data"
    },
    {
     "data": {
      "application/vnd.jupyter.widget-view+json": {
       "model_id": "ae8a6fd077da4040a8c48c08e74a95c0",
       "version_major": 2,
       "version_minor": 0
      },
      "text/plain": [
       "Validation: |          | 0/? [00:00<?, ?it/s]"
      ]
     },
     "metadata": {},
     "output_type": "display_data"
    },
    {
     "data": {
      "application/vnd.jupyter.widget-view+json": {
       "model_id": "b6559117c940430d9a90c699bc6b3268",
       "version_major": 2,
       "version_minor": 0
      },
      "text/plain": [
       "Validation: |          | 0/? [00:00<?, ?it/s]"
      ]
     },
     "metadata": {},
     "output_type": "display_data"
    },
    {
     "data": {
      "application/vnd.jupyter.widget-view+json": {
       "model_id": "31b8d7e85cb24ce7bc6654c0ebdbc578",
       "version_major": 2,
       "version_minor": 0
      },
      "text/plain": [
       "Validation: |          | 0/? [00:00<?, ?it/s]"
      ]
     },
     "metadata": {},
     "output_type": "display_data"
    },
    {
     "data": {
      "application/vnd.jupyter.widget-view+json": {
       "model_id": "19377665908c4a8fa0e1f69ef3646da8",
       "version_major": 2,
       "version_minor": 0
      },
      "text/plain": [
       "Validation: |          | 0/? [00:00<?, ?it/s]"
      ]
     },
     "metadata": {},
     "output_type": "display_data"
    },
    {
     "data": {
      "application/vnd.jupyter.widget-view+json": {
       "model_id": "35fb6dcab9814db98d223acb270dcc58",
       "version_major": 2,
       "version_minor": 0
      },
      "text/plain": [
       "Validation: |          | 0/? [00:00<?, ?it/s]"
      ]
     },
     "metadata": {},
     "output_type": "display_data"
    },
    {
     "data": {
      "application/vnd.jupyter.widget-view+json": {
       "model_id": "3b73410a781c4c5498a65bd78d237279",
       "version_major": 2,
       "version_minor": 0
      },
      "text/plain": [
       "Validation: |          | 0/? [00:00<?, ?it/s]"
      ]
     },
     "metadata": {},
     "output_type": "display_data"
    },
    {
     "data": {
      "application/vnd.jupyter.widget-view+json": {
       "model_id": "faa51861c61d4e168ad2288c9614113f",
       "version_major": 2,
       "version_minor": 0
      },
      "text/plain": [
       "Validation: |          | 0/? [00:00<?, ?it/s]"
      ]
     },
     "metadata": {},
     "output_type": "display_data"
    },
    {
     "data": {
      "application/vnd.jupyter.widget-view+json": {
       "model_id": "86b3319209fd416da71b456ad5235588",
       "version_major": 2,
       "version_minor": 0
      },
      "text/plain": [
       "Validation: |          | 0/? [00:00<?, ?it/s]"
      ]
     },
     "metadata": {},
     "output_type": "display_data"
    },
    {
     "data": {
      "application/vnd.jupyter.widget-view+json": {
       "model_id": "d9327aa5e61b4c4cbfe0280049f2b24e",
       "version_major": 2,
       "version_minor": 0
      },
      "text/plain": [
       "Validation: |          | 0/? [00:00<?, ?it/s]"
      ]
     },
     "metadata": {},
     "output_type": "display_data"
    },
    {
     "data": {
      "application/vnd.jupyter.widget-view+json": {
       "model_id": "231f48ea5d444e57bb6ec737f0600567",
       "version_major": 2,
       "version_minor": 0
      },
      "text/plain": [
       "Validation: |          | 0/? [00:00<?, ?it/s]"
      ]
     },
     "metadata": {},
     "output_type": "display_data"
    },
    {
     "data": {
      "application/vnd.jupyter.widget-view+json": {
       "model_id": "9963fea9066147f490c1967d09dd015d",
       "version_major": 2,
       "version_minor": 0
      },
      "text/plain": [
       "Validation: |          | 0/? [00:00<?, ?it/s]"
      ]
     },
     "metadata": {},
     "output_type": "display_data"
    },
    {
     "data": {
      "application/vnd.jupyter.widget-view+json": {
       "model_id": "540acd9f8f4845de8dc1ce3dfc6e5aa2",
       "version_major": 2,
       "version_minor": 0
      },
      "text/plain": [
       "Validation: |          | 0/? [00:00<?, ?it/s]"
      ]
     },
     "metadata": {},
     "output_type": "display_data"
    },
    {
     "data": {
      "application/vnd.jupyter.widget-view+json": {
       "model_id": "2c715ec58fcc4b789e97732e865ec3fd",
       "version_major": 2,
       "version_minor": 0
      },
      "text/plain": [
       "Validation: |          | 0/? [00:00<?, ?it/s]"
      ]
     },
     "metadata": {},
     "output_type": "display_data"
    },
    {
     "data": {
      "application/vnd.jupyter.widget-view+json": {
       "model_id": "1dc8eb181b4f455f8f81e0ee4fb5ffb1",
       "version_major": 2,
       "version_minor": 0
      },
      "text/plain": [
       "Validation: |          | 0/? [00:00<?, ?it/s]"
      ]
     },
     "metadata": {},
     "output_type": "display_data"
    },
    {
     "data": {
      "application/vnd.jupyter.widget-view+json": {
       "model_id": "5916337f01954884bd60f39c2ebb5bc2",
       "version_major": 2,
       "version_minor": 0
      },
      "text/plain": [
       "Validation: |          | 0/? [00:00<?, ?it/s]"
      ]
     },
     "metadata": {},
     "output_type": "display_data"
    },
    {
     "data": {
      "application/vnd.jupyter.widget-view+json": {
       "model_id": "a1e583b19a194a09a201de2c240ea0e8",
       "version_major": 2,
       "version_minor": 0
      },
      "text/plain": [
       "Validation: |          | 0/? [00:00<?, ?it/s]"
      ]
     },
     "metadata": {},
     "output_type": "display_data"
    },
    {
     "data": {
      "application/vnd.jupyter.widget-view+json": {
       "model_id": "c32f8e6c317346738892000242f473d8",
       "version_major": 2,
       "version_minor": 0
      },
      "text/plain": [
       "Validation: |          | 0/? [00:00<?, ?it/s]"
      ]
     },
     "metadata": {},
     "output_type": "display_data"
    },
    {
     "data": {
      "application/vnd.jupyter.widget-view+json": {
       "model_id": "cb58def675a14518ba598b9119ff798e",
       "version_major": 2,
       "version_minor": 0
      },
      "text/plain": [
       "Validation: |          | 0/? [00:00<?, ?it/s]"
      ]
     },
     "metadata": {},
     "output_type": "display_data"
    },
    {
     "data": {
      "application/vnd.jupyter.widget-view+json": {
       "model_id": "c45afc0fa3704b3289d3bee6394bad45",
       "version_major": 2,
       "version_minor": 0
      },
      "text/plain": [
       "Validation: |          | 0/? [00:00<?, ?it/s]"
      ]
     },
     "metadata": {},
     "output_type": "display_data"
    },
    {
     "data": {
      "application/vnd.jupyter.widget-view+json": {
       "model_id": "2e066b1329d5408890b20ad3756668b9",
       "version_major": 2,
       "version_minor": 0
      },
      "text/plain": [
       "Validation: |          | 0/? [00:00<?, ?it/s]"
      ]
     },
     "metadata": {},
     "output_type": "display_data"
    },
    {
     "data": {
      "application/vnd.jupyter.widget-view+json": {
       "model_id": "11f7e6f310004d97851b42cfc3425497",
       "version_major": 2,
       "version_minor": 0
      },
      "text/plain": [
       "Validation: |          | 0/? [00:00<?, ?it/s]"
      ]
     },
     "metadata": {},
     "output_type": "display_data"
    },
    {
     "data": {
      "application/vnd.jupyter.widget-view+json": {
       "model_id": "8e0181f770d747878895795b98db8994",
       "version_major": 2,
       "version_minor": 0
      },
      "text/plain": [
       "Validation: |          | 0/? [00:00<?, ?it/s]"
      ]
     },
     "metadata": {},
     "output_type": "display_data"
    },
    {
     "data": {
      "application/vnd.jupyter.widget-view+json": {
       "model_id": "80271f77ba9a4302b040b1687c36fefc",
       "version_major": 2,
       "version_minor": 0
      },
      "text/plain": [
       "Validation: |          | 0/? [00:00<?, ?it/s]"
      ]
     },
     "metadata": {},
     "output_type": "display_data"
    },
    {
     "data": {
      "application/vnd.jupyter.widget-view+json": {
       "model_id": "7c38cdb694dd4df69b9af9c4343d1cd0",
       "version_major": 2,
       "version_minor": 0
      },
      "text/plain": [
       "Validation: |          | 0/? [00:00<?, ?it/s]"
      ]
     },
     "metadata": {},
     "output_type": "display_data"
    },
    {
     "data": {
      "application/vnd.jupyter.widget-view+json": {
       "model_id": "c961287e66be4fed9e6e1a550cfcfa33",
       "version_major": 2,
       "version_minor": 0
      },
      "text/plain": [
       "Validation: |          | 0/? [00:00<?, ?it/s]"
      ]
     },
     "metadata": {},
     "output_type": "display_data"
    },
    {
     "data": {
      "application/vnd.jupyter.widget-view+json": {
       "model_id": "832bae13dfe14f40b71fe46c4d3b6eff",
       "version_major": 2,
       "version_minor": 0
      },
      "text/plain": [
       "Validation: |          | 0/? [00:00<?, ?it/s]"
      ]
     },
     "metadata": {},
     "output_type": "display_data"
    },
    {
     "data": {
      "application/vnd.jupyter.widget-view+json": {
       "model_id": "5b4fad29359a4803ad6a49dc32e42cc0",
       "version_major": 2,
       "version_minor": 0
      },
      "text/plain": [
       "Validation: |          | 0/? [00:00<?, ?it/s]"
      ]
     },
     "metadata": {},
     "output_type": "display_data"
    },
    {
     "data": {
      "application/vnd.jupyter.widget-view+json": {
       "model_id": "3085841f896e4077a114420ee5b3eaef",
       "version_major": 2,
       "version_minor": 0
      },
      "text/plain": [
       "Validation: |          | 0/? [00:00<?, ?it/s]"
      ]
     },
     "metadata": {},
     "output_type": "display_data"
    },
    {
     "data": {
      "application/vnd.jupyter.widget-view+json": {
       "model_id": "12938e214eab4c77ba4f147b7ce93c0d",
       "version_major": 2,
       "version_minor": 0
      },
      "text/plain": [
       "Validation: |          | 0/? [00:00<?, ?it/s]"
      ]
     },
     "metadata": {},
     "output_type": "display_data"
    },
    {
     "data": {
      "application/vnd.jupyter.widget-view+json": {
       "model_id": "9e1efe297c8b45f59f1ca075f022f9d1",
       "version_major": 2,
       "version_minor": 0
      },
      "text/plain": [
       "Validation: |          | 0/? [00:00<?, ?it/s]"
      ]
     },
     "metadata": {},
     "output_type": "display_data"
    },
    {
     "data": {
      "application/vnd.jupyter.widget-view+json": {
       "model_id": "25fdcc36ac40460da39d91c6e94a36d8",
       "version_major": 2,
       "version_minor": 0
      },
      "text/plain": [
       "Validation: |          | 0/? [00:00<?, ?it/s]"
      ]
     },
     "metadata": {},
     "output_type": "display_data"
    },
    {
     "data": {
      "application/vnd.jupyter.widget-view+json": {
       "model_id": "6dedaf98675f4a3eb3cb3bb48cc13829",
       "version_major": 2,
       "version_minor": 0
      },
      "text/plain": [
       "Validation: |          | 0/? [00:00<?, ?it/s]"
      ]
     },
     "metadata": {},
     "output_type": "display_data"
    },
    {
     "data": {
      "application/vnd.jupyter.widget-view+json": {
       "model_id": "ff2a3bf0d6fc43259b25c8907e58e7ee",
       "version_major": 2,
       "version_minor": 0
      },
      "text/plain": [
       "Validation: |          | 0/? [00:00<?, ?it/s]"
      ]
     },
     "metadata": {},
     "output_type": "display_data"
    },
    {
     "data": {
      "application/vnd.jupyter.widget-view+json": {
       "model_id": "15ac4603247d4d7dad88c8551428fa89",
       "version_major": 2,
       "version_minor": 0
      },
      "text/plain": [
       "Validation: |          | 0/? [00:00<?, ?it/s]"
      ]
     },
     "metadata": {},
     "output_type": "display_data"
    }
   ],
   "source": [
    "trainer.fit(model, train_loader, val_loader)"
   ]
  },
  {
   "cell_type": "code",
   "execution_count": 21,
   "id": "847a006a",
   "metadata": {},
   "outputs": [],
   "source": [
    "# prediction\n",
    "\n",
    "def predict_next(text, model = model, vocab = vocab):\n",
    "  model = model.to(device)\n",
    "  model.eval()\n",
    "  # tokenize\n",
    "  tokenized_text = word_tokenize(text.lower())\n",
    "\n",
    "  # text -> numerical indices\n",
    "  numerical_text = text_to_indices(tokenized_text, vocab)\n",
    "\n",
    "  # padding\n",
    "  padded_text = torch.tensor([0] * (max_len - len(numerical_text)) + numerical_text, dtype=torch.long).unsqueeze(0)\n",
    "\n",
    "  padded_text = padded_text.to(device)\n",
    "  \n",
    "  # send to model\n",
    "  output = model(padded_text)\n",
    "\n",
    "  # predicted index\n",
    "  index = torch.argmax(output, dim=1)\n",
    "\n",
    "  # merge with text\n",
    "  return text + \" \" + list(vocab.keys())[index]\n",
    "\n"
   ]
  },
  {
   "cell_type": "code",
   "execution_count": 22,
   "id": "29dfda61",
   "metadata": {},
   "outputs": [
    {
     "name": "stdout",
     "output_type": "stream",
     "text": [
      "Large language model is a\n",
      "Large language model is a large\n",
      "Large language model is a large language\n",
      "Large language model is a large language model\n",
      "Large language model is a large language model (\n",
      "Large language model is a large language model ( llm\n",
      "Large language model is a large language model ( llm )\n",
      "Large language model is a large language model ( llm ) is\n",
      "Large language model is a large language model ( llm ) is a\n",
      "Large language model is a large language model ( llm ) is a language\n",
      "Large language model is a large language model ( llm ) is a language model\n",
      "Large language model is a large language model ( llm ) is a language model trained\n",
      "Large language model is a large language model ( llm ) is a language model trained with\n",
      "Large language model is a large language model ( llm ) is a language model trained with self-supervised\n",
      "Large language model is a large language model ( llm ) is a language model trained with self-supervised machine\n"
     ]
    }
   ],
   "source": [
    "new_line = \"Large language model is\" \n",
    "for _ in range(15):\n",
    "\tnew_line = predict_next(new_line) \n",
    "\tprint(new_line)\n",
    "\t#print(f\"Predicted next word: {next_word}\")"
   ]
  },
  {
   "cell_type": "code",
   "execution_count": 23,
   "id": "aff9f604",
   "metadata": {},
   "outputs": [
    {
     "name": "stdout",
     "output_type": "stream",
     "text": [
      "a vocabulary is decided\n",
      "a vocabulary is decided ,\n",
      "a vocabulary is decided , an\n",
      "a vocabulary is decided , an llm\n",
      "a vocabulary is decided , an llm ,\n",
      "a vocabulary is decided , an llm , while\n",
      "a vocabulary is decided , an llm , while preserving\n",
      "a vocabulary is decided , an llm , while preserving most\n",
      "a vocabulary is decided , an llm , while preserving most of\n",
      "a vocabulary is decided , an llm , while preserving most of its\n",
      "a vocabulary is decided , an llm , while preserving most of its llms\n",
      "a vocabulary is decided , an llm , while preserving most of its llms .\n",
      "a vocabulary is decided , an llm , while preserving most of its llms . for\n",
      "a vocabulary is decided , an llm , while preserving most of its llms . for example\n",
      "a vocabulary is decided , an llm , while preserving most of its llms . for example ,\n"
     ]
    }
   ],
   "source": [
    "new_line = \"a vocabulary is\" \n",
    "for _ in range(15):\n",
    "\tnew_line = predict_next(new_line) \n",
    "\tprint(new_line) "
   ]
  },
  {
   "cell_type": "code",
   "execution_count": 24,
   "id": "ebe1bb13",
   "metadata": {},
   "outputs": [
    {
     "name": "stdout",
     "output_type": "stream",
     "text": [
      "largest and most capable llms\n",
      "largest and most capable llms are\n",
      "largest and most capable llms are generative\n",
      "largest and most capable llms are generative pretrained\n",
      "largest and most capable llms are generative pretrained transformers\n",
      "largest and most capable llms are generative pretrained transformers (\n",
      "largest and most capable llms are generative pretrained transformers ( gpts\n",
      "largest and most capable llms are generative pretrained transformers ( gpts )\n",
      "largest and most capable llms are generative pretrained transformers ( gpts ) ,\n",
      "largest and most capable llms are generative pretrained transformers ( gpts ) , which\n",
      "largest and most capable llms are generative pretrained transformers ( gpts ) , which are\n",
      "largest and most capable llms are generative pretrained transformers ( gpts ) , which are largely\n",
      "largest and most capable llms are generative pretrained transformers ( gpts ) , which are largely used\n",
      "largest and most capable llms are generative pretrained transformers ( gpts ) , which are largely used in\n",
      "largest and most capable llms are generative pretrained transformers ( gpts ) , which are largely used in generative\n"
     ]
    }
   ],
   "source": [
    "line = \"largest and most capable\" \n",
    "for _ in range(15):\n",
    "\tline = predict_next(line) \n",
    "\tprint(line) "
   ]
  }
 ],
 "metadata": {
  "kernelspec": {
   "display_name": "Python 3",
   "language": "python",
   "name": "python3"
  },
  "language_info": {
   "codemirror_mode": {
    "name": "ipython",
    "version": 3
   },
   "file_extension": ".py",
   "mimetype": "text/x-python",
   "name": "python",
   "nbconvert_exporter": "python",
   "pygments_lexer": "ipython3",
   "version": "3.10.18"
  }
 },
 "nbformat": 4,
 "nbformat_minor": 5
}
